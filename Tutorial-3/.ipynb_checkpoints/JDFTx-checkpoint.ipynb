{
 "cells": [
  {
   "cell_type": "markdown",
   "id": "5d18fad7",
   "metadata": {},
   "source": [
    "# JDFTx"
   ]
  },
  {
   "cell_type": "markdown",
   "id": "cb2682d5",
   "metadata": {},
   "source": [
    "This tutorial will teach you the basic workflow of computational chemistry using JDFTx as our DFT software. This tutorial won't cover any theory, just application and methods. This tutorial also assumes that you will be doing high throughput electrochemical material discovery, and will teach the concepts needed to perform those experiments."
   ]
  },
  {
   "cell_type": "markdown",
   "id": "320b1b6e",
   "metadata": {},
   "source": [
    "Take a look at the computational workflow below. This will be generally applicable to anything done in our group."
   ]
  },
  {
   "cell_type": "markdown",
   "id": "22a6b3e7",
   "metadata": {},
   "source": [
    "<img src=\"../Pictures/JDFTx/Computational_Workflow.png\" alt='Computational Workflow'>"
   ]
  },
  {
   "cell_type": "markdown",
   "id": "dc8fc2b6",
   "metadata": {},
   "source": [
    "The Structure Generation phase will be easy throughout these tutorials, because all of the necessary structure files will be supplied in the files folder. \n",
    "\n",
    "The Ionic Relaxation is the majority of the computational time and is highly important. During this phase, the initial structure will be \"relaxed,\" meaning the nucleus positions will be shifted to lower the forces between them and minimize the total energy. This is done by running a DFT calculation to get electronic structure properties such as the forces between nuclei. Those forces are then used by a minimization algorithm to change nuclear positions. We can set both energetic and force related convergence criteria, which we'll do later. A structure is considered relaxed when it clears the force/energy convergence criteria we set.\n",
    "\n",
    "Following ionic relaxation, we need to do one more electronic structure calculation that we label the Singlepoint. This calculation won't shift the nuclear positions, just generate electronic structure parameters such as the density of states, spatial orbitals, and energetics.\n",
    "\n",
    "To understand this workflow, we'll go through a few examples, starting with a nitrogen molecule."
   ]
  },
  {
   "cell_type": "markdown",
   "id": "2a1ba084",
   "metadata": {},
   "source": [
    "## Nitrogen Molecule"
   ]
  },
  {
   "cell_type": "markdown",
   "id": "b7e43be6",
   "metadata": {},
   "source": [
    "To submit any calculation in JDFTx, we must have a specifically formatted file called the _in_ file. This file will contain the geometry of our molecule as well as the DFT parameters we want to use for the calculation. In our group, we use a file called the __POSCAR__ (pos- as in position) to represent the geometry of our molecule. Let's look at the POSCAR for nitrogen, found in the N2/ directory in the files/ directory."
   ]
  },
  {
   "cell_type": "markdown",
   "id": "1b4b51dd",
   "metadata": {},
   "source": [
    " ```\n",
    " N \n",
    " 1.0000000000000000\n",
    "    10.0000000000000000    0.0000000000000000    0.0000000000000000\n",
    "     0.0000000000000000   10.0000000000000000    0.0000000000000000\n",
    "     0.0000000000000000    0.0000000000000000   10.0000000000000000\n",
    " N \n",
    "   2\n",
    "Cartesian\n",
    "  0.0000000000000000  0.0000000000000000  0.0000000000000000\n",
    "  0.0000000000000000  0.0000000000000000  1.5500000000000000\n",
    "  ```"
   ]
  },
  {
   "cell_type": "markdown",
   "id": "346de36b",
   "metadata": {},
   "source": [
    "The section that contains the matrix,\n",
    "\n",
    "<table>\n",
    "<tr>\n",
    "    <td>10.0</td>\n",
    "    <td>0.0</td>\n",
    "    <td>0.0</td>\n",
    "</tr>\n",
    "<tr>\n",
    "    <td>0.0</td>\n",
    "    <td>10.0</td>\n",
    "    <td>0.0</td>\n",
    "</tr>\n",
    "<tr>\n",
    "    <td>0.0</td>\n",
    "    <td>0.0</td>\n",
    "    <td>10.0</td>\n",
    "</tr>\n",
    "    \n",
    "</table>\n",
    "\n",
    "denotes the geometry of the lattice vectors. In this case, the lattice vectors are the same as the cartesian basis vectors and each lattice vector extends 10 anstroms in their resepactive directions.\n",
    "\n",
    "The lines that follow indicate what atoms are in the unit cell, and where they're located. In the case above,\n",
    "```\n",
    "N\n",
    "    2\n",
    "```\n",
    "denotes that there are two nitrogen atoms. The lines that follow show where the atoms are. The first line shows that the first N atom is at the origin, while the second N atom is on the z axis, 1.55 angstoms from the origin."
   ]
  },
  {
   "cell_type": "markdown",
   "id": "198f310b",
   "metadata": {},
   "source": [
    "This POSCAR is ready to be used to build an in file. Start by making a directory in your tutorial directory called ```N2```. ```cd``` into the directory and copy over the POSCAR from the ```files/N2/``` directory in the tutorial files.\n",
    "<img src=\"../Pictures/JDFTx/N2_POSCAR.png\" alt=\"N2 POSCAR\">"
   ]
  },
  {
   "cell_type": "markdown",
   "id": "18aa82fd",
   "metadata": {},
   "source": [
    "We need to convert the POSCAR into a file format that JDFTx can understand. To do this, run the script\n",
    "```python\n",
    "pos2jdftx.py\n",
    "```"
   ]
  },
  {
   "cell_type": "markdown",
   "id": "3cf20256",
   "metadata": {},
   "source": [
    "<img src=\"../Pictures/JDFTx/pos2jdftx.png\" alt=\"pos2jdftx\">"
   ]
  },
  {
   "cell_type": "markdown",
   "id": "3db39688",
   "metadata": {},
   "source": [
    "We see that the script created two new files, ```init.ionpos``` and ```init.lattice```. Examine these files with the ```cat``` command and you'll find how similar they look to different parts of the POSCAR. You may notice one key difference in the numbers, which arises from the fact that __JDFTx uses Bohrs__ while the POSCAR is written in Angstroms. This conversion must be done or the calculations will likely fail."
   ]
  },
  {
   "cell_type": "markdown",
   "id": "df1ff891",
   "metadata": {},
   "source": [
    "Now we can begin to build our in file. If you want more practice with this, see a similar tutorial in [the JDFTx documentation](http://jdftx.org/CoulombTrunc.html). To begin, ```touch``` a new file called ```N2.in```, and open it in ```nano```.\n",
    "<img src=\"../Pictures/JDFTx/Touch_N2.png\" alt=\"Touch N2\">"
   ]
  },
  {
   "cell_type": "markdown",
   "id": "8521ff6c",
   "metadata": {},
   "source": [
    "First, we need to include the structure data. To do this, type\n",
    "```\n",
    "include init.ionpos\n",
    "include init.lattice\n",
    "```"
   ]
  },
  {
   "cell_type": "markdown",
   "id": "43f2cc5b",
   "metadata": {},
   "source": [
    "We need to include what are called _pseudopotentials_, which approximate the core electrons so that the DFT calculation can be simplified. Our group uses the GBRV1.5 psudeopotentials, which are installed at this path: ```/projects/musgravc/apps/jdftx-1.6.0/build/pseudopotentials/GBRV_v1.5/```. We tell JDFTx which pseudopotentials to use with the following command:\n",
    "```\n",
    "ion-species /projects/musgravc/apps/jdftx-1.6.0/build/pseudopotentials/GBRV_v1.5/$ID_pbe_v1.uspp\n",
    "```"
   ]
  },
  {
   "cell_type": "markdown",
   "id": "8387f5d2",
   "metadata": {},
   "source": [
    "We must also specify an electronic cutoff, which tells the software how many terms we want in our orbital expansion functions. Higher cutoff energies lead to higher computational cost but better orbitals (hopefully). In our case, we'll specify the cutoff energy with the tag,\n",
    "```\n",
    "elec-cutoff 20 100\n",
    "```\n",
    "If you read other papers, you'll see that their cutoff energies are well into the hundreds normally. This is because those papers are likely using _electronvolts_ and __JDFTx uses Hartree__. Again, you must remember to make this conversion or the calculation will never converge."
   ]
  },
  {
   "cell_type": "markdown",
   "id": "f8d1fe67",
   "metadata": {},
   "source": [
    "Your ```N2.in``` file should now look like this:\n",
    "<img src=\"../Pictures/JDFTx/N2_in.png\" alt=\"N2.in\">"
   ]
  },
  {
   "cell_type": "markdown",
   "id": "9cbf37b8",
   "metadata": {},
   "source": [
    "Next, we need to set the coulomb interaction. Since this is a molecule, according to the [documentation](http://jdftx.org/CommandCoulombInteraction.html), we want to set the coulomb interaction to Isolated. We'll also set the coulomb-truncation-embed to 0 0 0. Add these lines to your ```N2.in``` file.\n",
    "```\n",
    "coulomb-interaction Isolated\n",
    "coulomb-truncation-embed 0 0 0\n",
    "```"
   ]
  },
  {
   "cell_type": "markdown",
   "id": "261c9185",
   "metadata": {},
   "source": [
    "JDFTx has a plethora of data that it can output after a calculation, so we have to tell it what data we need. To sepcify the data JDFTx outputs, use the tag ```dump```. We want to dump the data needed to start a new calculation, some statistics about the final energy, and the final electron density. To get that output data, type the following lines in the ```N2.in```\n",
    "\n",
    "```\n",
    "dump-name N2.$VAR\n",
    "dump End State\n",
    "dump End Dtot\n",
    "dump End Ecomponents\n",
    "```\n"
   ]
  },
  {
   "cell_type": "markdown",
   "id": "2073185a",
   "metadata": {},
   "source": [
    "The last step in setting up the in file is to set the geometry optimization constraints. So far, all of the tags we've input have had to do with the electronic structure calculation. The following tags are used to take the forces generated from the electronic structure and use them to change the nuclear positions. We'll specify both force and energy convergence criteria. The energy convergence criteria is ```energyDiffThreshold 1e-6```, which means that the calculation will be converged if two consecutive calculations are within 1e-6 Hartree of each other. The force crtieria is ```knormThreshold 1e-4```, which means that the calculation will be converged if the [norm](https://mathworld.wolfram.com/VectorNorm.html) of the force vector is below 1e-4 Hartree/Bohr. We'll also add a maximum number of nuclear steps before the calculation finishes. We do this by setting the ```nIterations``` tag to the number of maximum steps. All of these tags are sub-tags to the ionic-minimize tag."
   ]
  },
  {
   "cell_type": "markdown",
   "id": "5a8d6f61",
   "metadata": {},
   "source": [
    "Add these lines to the ```N2.in``` file:\n",
    "```\n",
    "ionic-minimize \\\n",
    "    nIterations 10 \\\n",
    "    energyDiffThreshold 1e-6 \\\n",
    "    knormThreshold 1e-4\n",
    "```\n",
    "\n",
    "The file is complete! It should look like this:\n",
    "<img src=\"../Pictures/JDFTx/final_in.png\" alt='Final in'>"
   ]
  },
  {
   "cell_type": "markdown",
   "id": "ac37071a",
   "metadata": {},
   "source": []
  }
 ],
 "metadata": {
  "kernelspec": {
   "display_name": "jdft",
   "language": "python",
   "name": "jdft"
  },
  "language_info": {
   "codemirror_mode": {
    "name": "ipython",
    "version": 3
   },
   "file_extension": ".py",
   "mimetype": "text/x-python",
   "name": "python",
   "nbconvert_exporter": "python",
   "pygments_lexer": "ipython3",
   "version": "3.10.4"
  }
 },
 "nbformat": 4,
 "nbformat_minor": 5
}
