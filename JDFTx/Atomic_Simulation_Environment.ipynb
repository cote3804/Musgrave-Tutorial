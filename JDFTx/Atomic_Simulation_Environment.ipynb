{
 "cells": [
  {
   "cell_type": "markdown",
   "id": "09186877",
   "metadata": {},
   "source": [
    "# Atomic Simulation Environment"
   ]
  },
  {
   "cell_type": "markdown",
   "id": "91f9ae55",
   "metadata": {},
   "source": [
    "Welcome to the Atomic Simulation Environment tutorial. This tutorial will take you through the basics of the Atomic Simulation Environment (ASE) python package that the group uses for doing analysis and structure optimization. Let's start with the basic structure file we use for structure optimization. This file is known as the __POSCAR__"
   ]
  },
  {
   "cell_type": "code",
   "execution_count": null,
   "id": "ad0e478d",
   "metadata": {},
   "outputs": [],
   "source": []
  }
 ],
 "metadata": {
  "kernelspec": {
   "display_name": "jdft",
   "language": "python",
   "name": "jdft"
  },
  "language_info": {
   "codemirror_mode": {
    "name": "ipython",
    "version": 3
   },
   "file_extension": ".py",
   "mimetype": "text/x-python",
   "name": "python",
   "nbconvert_exporter": "python",
   "pygments_lexer": "ipython3",
   "version": "3.10.4"
  }
 },
 "nbformat": 4,
 "nbformat_minor": 5
}
