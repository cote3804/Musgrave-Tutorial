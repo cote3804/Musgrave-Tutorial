{
 "cells": [
  {
   "cell_type": "markdown",
   "id": "576a408d",
   "metadata": {},
   "source": [
    "# Pt bulk and surface\n",
    "\n",
    "In this tutorial, we'll start with a bulk platinum unit cell and end with a platinum surface. We'll start by relaxing the bulk Pt structure and extracting some data from the calculation. We'll then use that relaxed Pt unit cell to create a surface under solvent and bias."
   ]
  },
  {
   "cell_type": "markdown",
   "id": "59a9bbf7",
   "metadata": {},
   "source": [
    "To start, take the POSCAR_bulk file from the files/Pt_111 directory in the tutorial files. Make a new directory in you ```scractch/tutorial/``` directory called Pt. Copy the POSCAR_bulk file into that directory and rename it to POSCAR.\n",
    "\n",
    "Like we did in the last tutorial, make the lattice and position files by running ```pos2jdftx.py```. Now, we need to build our in file. Start by opening a new in file in nano.\n",
    "\n",
    "Start by typing\n",
    "```bash\n",
    "include init.ionpos\n",
    "include init.lattice\n",
    "````"
   ]
  },
  {
   "cell_type": "markdown",
   "id": "ed37d5e4",
   "metadata": {},
   "source": [
    "Next, we need to set our k-point sampling. To calculate many important parameters (electron density, density of states...) it is necessary to integrate over all k in the Brillouin zone. This integral is instead approximated with a sum over a discrete set of k-points. There are different ways to create this mesh, but we'll be using a Monkhorst Pack, which evenly distributes the points within the reciprocal lattice:\n",
    "<img src=\"../Pictures/JDFTx/Monkhorst_Pack.png\" alt=\"Monkhorst Pack\">\n",
    "[Image source](https://wiki.bnl.gov/CFN-Computation/images/3/34/K-point.pdf)"
   ]
  },
  {
   "cell_type": "markdown",
   "id": "a191ec7c",
   "metadata": {},
   "source": [
    "In general, larger unit cells require fewer k-points. In our case, we're going to use an 8x8x8 k-point mesh. To set up the k-point sampling in the in file, type\n",
    "```bash\n",
    "kpoint-folding 8 8 8\n",
    "```"
   ]
  },
  {
   "cell_type": "markdown",
   "id": "b528442a",
   "metadata": {},
   "source": [
    "We need to specify our psuedopotentials again, so make sure to include these lines in your in file\n",
    "```bash\n",
    "ion-species /projects/musgravc/apps/jdftx-1.6.0/build/pseudopotentials/GBRV_v1.5/$ID_pbe_v1.uspp\n",
    "ion-species /projects/musgravc/apps/jdftx-1.6.0/build/pseudopotentials/GBRV_v1.5/$ID_pbe_v1.uspp\n",
    "ion-species /projects/musgravc/apps/jdftx-1.6.0/build/pseudopotentials/GBRV_v1.5/$ID_pbe_v1.2.uspp\n",
    "ion-species /projects/musgravc/apps/jdftx-1.6.0/build/pseudopotentials/GBRV_v1.5/$ID_pbe_v1.4.uspp\n",
    "ion-species /projects/musgravc/apps/jdftx-1.6.0/build/pseudopotentials/GBRV_v1.5/$ID_pbe_v1.5.uspp\n",
    "```\n",
    "\n",
    "And include the cutoff energy tag:\n",
    "```bash\n",
    "elec-cutoff 20 100\n",
    "```"
   ]
  },
  {
   "cell_type": "markdown",
   "id": "ae95151c",
   "metadata": {},
   "source": [
    "We also want to optimize the geometry of our unit cell, so we have to add ionic-minimize tags. We're also going to use a new type of electronic state convergence algorithm called *Self Consistent Field* or *SCF* for short. SCF is an iterative method for solving the schroedinger equation for many electrons. SCF is the fastest method for electronic structure optimization in JDFTx, but we won't use it for bias calculations due to a convergence issue. For this solid metal calculation, it should not have that convergence issue.\n",
    "\n",
    "Add these lines to the in file\n",
    "```bash\n",
    "electronic-SCF                   #Electronic state optimization\n",
    "lattice-minimize nIterations 10\n",
    "```"
   ]
  },
  {
   "cell_type": "markdown",
   "id": "9869f7e0",
   "metadata": {},
   "source": [
    "Now we'll specify our output variables. In this case, we want to see how the nuclear positions change after each ionic step. To get the state after each ionic step, use the tag ```dump Ionic State```. Add these lines to your in file\n",
    "```bash\n",
    "dump-name Pt.$VAR\n",
    "dump End ElecDensity\n",
    "dump End Ecomponents\n",
    "dump Ionic State \n",
    "```"
   ]
  },
  {
   "cell_type": "markdown",
   "id": "2c0c0803",
   "metadata": {},
   "source": [
    "We still need a submission script. enter the following lines into a ```submit.sh``` file:\n",
    "```bash\n",
    "#!/bin/bash\n",
    "#SBATCH -J Pt_111\n",
    "#SBATCH --time=23:00:00\n",
    "#SBATCH --tasks 4\n",
    "#SBATCH --nodes 1\n",
    "#SBATCH --ntasks-per-node 1\n",
    "#SBATCH --account=ucb-general\n",
    "#SBATCH --partition amilan\n",
    "#SBATCH --qos=normal\n",
    "\n",
    "export I_MPI_FABRICS=shm\n",
    "module load intel impi\n",
    "\n",
    "mpirun -np 4 /home/nisi6161/jdftx_alpine/build/jdftx -i Pt.in -o out\n",
    "exit 0\n",
    "```\n",
    "\n",
    "You'll notice some differences from our N2 submission script. First, our job name was changed to ```Pt_111```. This time we also specified 4 tasks. Since our calculation includes multiple k-points, JDFTx is able to run them all in parallel. So by specifying 4 tasks, we ask Alpine to give us 4 cpus to parallelize our k-points across. In the mpirun command, you'll notice the ```-np 4``` tag, which tells the MPI parallelization program to make four parallel instances. JDFTx will then use those to run the k-points in parallel.\n",
    "\n",
    "Use ```sbatch submit.sh``` to submit your script"
   ]
  },
  {
   "cell_type": "markdown",
   "id": "681bd0f6",
   "metadata": {},
   "source": [
    "### Analysis"
   ]
  },
  {
   "cell_type": "markdown",
   "id": "80b43612",
   "metadata": {},
   "source": [
    "We can check to see that the JDFTx calculation finished by typing ```tail -n 40 out```. As long as it finished normally, you can continue to the rest of the analysis."
   ]
  },
  {
   "cell_type": "markdown",
   "id": "a7b10253",
   "metadata": {},
   "source": [
    "You should see these files in your Pt calculation directory:\n",
    "```bash\n",
    "init.ionpos\n",
    "init.lattice\n",
    "out\n",
    "POSCAR\n",
    "Pt.Ecomponents\n",
    "Pt.in\n",
    "Ot.ionpos\n",
    "Pt.lattice\n",
    "Pt.n\n",
    "Pt.wfns\n",
    "submit.sh\n",
    "```\n",
    "Plus a slurm output file\n",
    "\n",
    "We are going to do a few pieces of analysis on this calculation. First, let's look at the final structure. To do this, first activate the jdft conda environment\n",
    "```conda activate jdft```\n",
    "\n",
    "Then, run ```j2pos.py``` to turn the Pt.ionpos file into a CONTCAR"
   ]
  },
  {
   "cell_type": "markdown",
   "id": "18f9866e",
   "metadata": {},
   "source": [
    "Visualize the CONTCAR in VESTA. It should look like this:\n",
    "\n",
    "<img src=\"../Pictures/JDFTx/Pt_Relaxed.png\" alt=\"Pt Relaxed\">\n",
    "\n",
    "This unit cell should look pretty strange to you compared to our starting unit cell, which looked like this:\n",
    "\n",
    "<img src=\"../Pictures/JDFTx/Pt_Initial.png\" alt=\"Pt Initial\">\n",
    "\n",
    "Did we take away Pt atoms from our unit cell? No. We actually just broke the perfect cubic symmetry which prevents VESTA from showing all atoms on the corners/faces. However, our actual geometry change was small. If you compare the CONTCAR and POSCAR, you'll see that the crystal dimensio0ns changed slightly, and the atom positions shifted slightly."
   ]
  },
  {
   "cell_type": "markdown",
   "id": "f792bf11",
   "metadata": {},
   "source": [
    "Now let's visualize the electron density around the lattice atoms. The electron density is written in the ```Pt.n``` file. However, this file isn't human readable, so we need to use a JDFTx helper script to extract it. Run these lines:\n",
    "```bash\n",
    "conda activate jdft #need our octave anaconda environment loaded\n",
    "createXSF out dens.xsf Pt.n #create xsf density file\n",
    "```"
   ]
  },
  {
   "cell_type": "markdown",
   "id": "986a676d",
   "metadata": {},
   "source": [
    "You should notice a new ```dens.xsf``` file in the calculation directory. Drag this file into VESTA to visualize it.\n",
    "\n",
    "<img src=\"../Pictures/JDFTx/Pt_Density.png\" alt=\"Pt Density\">\n",
    "\n",
    "The colored surfaces are called isosurfaces, and they represent the electron density distributed throughout the cell. You can see that the electrons most densly occupy the sphere surrounding each Pt atom. An inorganic chemist might point out that the spherical enelctron density looks odd. I agree! I'm not fully sure how to get an electron density that more resembles a d-orbital, but I think [Wannier orbitals](https://jdftx.org/SeparatedBands.html) could be the answer."
   ]
  },
  {
   "cell_type": "markdown",
   "id": "edec03a5",
   "metadata": {},
   "source": [
    "## Surfaces\n",
    "\n",
    "We now have a converged bulk Pt structure. Since chemical reactions happen at the surface of a catalyst, we will need to turn this bulk structure into a surface. There are many ways to make surfaces, but we're going to use Pymatgen to do it."
   ]
  },
  {
   "cell_type": "markdown",
   "id": "aadc2a21",
   "metadata": {},
   "source": [
    "In the same ```Pt``` calculation directroy we've been working in, we're going to call the ```surface_maker.py``` script to cut the bulk structure into surfaces. We specify the gemoetry of our surface cut using [Miller Indices](https://web.iit.edu/sites/web/files/departments/academic-affairs/academic-resource-center/pdfs/Miller_Indices.pdf). In this case, we are only going to look at the most common low index factes (100) and (111). Use the following syntax to cut the (111) facet:\n",
    "```bash\n",
    "surface_maker.py -i 111\n",
    "```"
   ]
  },
  {
   "cell_type": "markdown",
   "id": "605be97d",
   "metadata": {},
   "source": [
    "The script should have printed a message to the command line. If you ```ls```, you should see that a new directory called ```111``` was created.\n",
    "\n",
    "<img src=\"../Pictures/JDFTx/111_Surface.png\" alt=\"111 Surface\">\n",
    "\n",
    "```cd``` into that directory and visualize the ```POSCAR_00``` file in VESTA.\n",
    "\n",
    "<img src=\"../Pictures/JDFTx/Pt_Surface.png\" alt=\"Pt Surface\">"
   ]
  },
  {
   "cell_type": "markdown",
   "id": "73e794bb",
   "metadata": {},
   "source": [
    "At the moment, this file looks very strange. It looks nothing like any of the unit cells we've worked with so far, and it's hard to see that it's actually a surface. However, if you set the boundaries to 3x3x1 in VESTA and set it to Space-filling, it is clear that our unit cell is indeed a surface:\n",
    "\n",
    "<img src=\"../Pictures/JDFTx/Surface_Boundary.png\" alt=\"Surface Boundary\">"
   ]
  },
  {
   "cell_type": "markdown",
   "id": "85c9c004",
   "metadata": {},
   "source": [
    "At first glance, this super cell looks like a good surface to throw into a DFT calculation. However, it has 54 atoms, which will significantly decrease the speed of our DFT calculation. Instead of using the 3x3x1 cell, we're going to make a 2x2x1 cell using the ```make_sueprcell.py``` script on Alpine."
   ]
  },
  {
   "cell_type": "markdown",
   "id": "0914b16f",
   "metadata": {},
   "source": [
    "Make sure you're in the ```111``` folder in the calculation directory, and call\n",
    "```bash\n",
    "make_supercell.py 221 -f POSCAR_00\n",
    "```\n",
    "You should now see a file called ```POSCAR_00_new```. You can visualize it in VESTA if you'd like to prove to yourself that we made a supercell of the (111) facet surface.\n",
    "\n",
    "Now that your file is made, make a new directory called ```Pt_111``` outside of the ```Pt``` directory we've been working in.\n",
    "Inside the tutorial directory you should now have three directories:\n",
    "```bash\n",
    "N2/ Pt/ Pt_111/\n",
    "```\n",
    "Copy your ```POSCAR_00_new``` file into the new ```Pt_111``` directory and rename it ```POSCAR```."
   ]
  },
  {
   "cell_type": "markdown",
   "id": "dedb9d45",
   "metadata": {},
   "source": [
    "#### Your turn\n",
    "\n",
    "Now, make a new (100) surface using the same methodology above. Make sure you cut the surface along the (100) facet and then make a 2x2x1 supercell. Copy that supercell into a Pt_100 directory next to the Pt_111 directory. If you get stuck and are unable to make the surface, both of the POSCARs can be found in this tutorial's Files/ directory."
   ]
  },
  {
   "cell_type": "markdown",
   "id": "17a881b6",
   "metadata": {},
   "source": [
    "If you succesfully made your POSCAR files, you're ready to build the in file and submit them to Alpine. We'll go through building the in file for the ```Pt_100``` system and then you'll have to build your own for ```Pt_111```.\n",
    "\n",
    "First, start by running ```pos2jdftx.py``` in the ```Pt_100``` calculation directory. This should populate the directory with the ```init.ionpos``` and ```init.lattice``` files.\n",
    "\n",
    "Let's start by including those in the in file. use nano to open a new file called ```in``` and add the lines:\n",
    "```bash\n",
    "include init.ionpos\n",
    "include init.lattice\n",
    "```"
   ]
  },
  {
   "cell_type": "markdown",
   "id": "12335195",
   "metadata": {},
   "source": [
    "We're going to now specify how many bands we want JDFTx to calculate. Many of these bands will be low lying bands that don't participate in the surface chemistry we're interested in, and some will be very high energy bands that also won't matter. However, to make sure we get enough of the bands we care about, we're going to let ASE suggest how many bands to calculate. The group already has a script for doing this called ```suggest_input_tags.py``` which will estimate the k-point mesh and the number of bands we need based on the POSCAR alone.\n",
    "\n",
    "Run ```suggest_input_tags.py``` in the calculation directory:\n",
    "\n",
    "<img src=\"../Pictures/JDFTx/Suggest_Tags.png\" alt=\"Suggest Tags\">\n",
    "\n",
    "The script gave us the tags we'll need to enter into our in file. Enter them in this format:\n",
    "```bash\n",
    "elec-n-bands 230\n",
    "kpoint-folding 5 5 1\n",
    "```"
   ]
  },
  {
   "cell_type": "code",
   "execution_count": null,
   "id": "51086cc4",
   "metadata": {},
   "outputs": [],
   "source": []
  }
 ],
 "metadata": {
  "kernelspec": {
   "display_name": "spy-env",
   "language": "python",
   "name": "spy-env"
  },
  "language_info": {
   "codemirror_mode": {
    "name": "ipython",
    "version": 3
   },
   "file_extension": ".py",
   "mimetype": "text/x-python",
   "name": "python",
   "nbconvert_exporter": "python",
   "pygments_lexer": "ipython3",
   "version": "3.10.4"
  }
 },
 "nbformat": 4,
 "nbformat_minor": 5
}
