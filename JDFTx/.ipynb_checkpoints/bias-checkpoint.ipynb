{
 "cells": [
  {
   "cell_type": "markdown",
   "id": "663603e7",
   "metadata": {},
   "source": [
    "# bias and solvation\n",
    "\n",
    "In this tutorial we will start by rerunning the Pt_100 and Pt_111 surfaces, but this time with bias and solvent so that we can see if bias has any effect on the stability of the surface."
   ]
  },
  {
   "cell_type": "markdown",
   "id": "024333c7",
   "metadata": {},
   "source": [
    "We can use many of the same files from last time"
   ]
  }
 ],
 "metadata": {
  "kernelspec": {
   "display_name": "spy-env",
   "language": "python",
   "name": "spy-env"
  },
  "language_info": {
   "codemirror_mode": {
    "name": "ipython",
    "version": 3
   },
   "file_extension": ".py",
   "mimetype": "text/x-python",
   "name": "python",
   "nbconvert_exporter": "python",
   "pygments_lexer": "ipython3",
   "version": "3.10.4"
  }
 },
 "nbformat": 4,
 "nbformat_minor": 5
}
