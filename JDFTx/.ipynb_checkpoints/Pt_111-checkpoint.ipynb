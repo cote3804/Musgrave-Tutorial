{
 "cells": [
  {
   "cell_type": "markdown",
   "id": "576a408d",
   "metadata": {},
   "source": [
    "# Pt bulk and surface\n",
    "\n",
    "In this tutorial, we'll start with a bulk platinum unit cell and end with a platinum surface. We'll start by relaxing the bulk Pt structure and extracting some data from the calculation. We'll then use that relaxed Pt unit cell to create a surface under solvent and bias."
   ]
  },
  {
   "cell_type": "markdown",
   "id": "59a9bbf7",
   "metadata": {},
   "source": [
    "To start, take the POSCAR_bulk file from the files/Pt_111 directory in the tutorial files. Make a new directory in you ```scractch/tutorial/``` directory called Pt. Copy the POSCAR_bulk file into that directory and rename it to POSCAR.\n",
    "\n",
    "Like we did in the last tutorial, make the lattice and position files by running ```pos2jdftx.py```. Now, we need to build our in file. Start by opening a new in file in nano.\n",
    "\n",
    "Start by typing\n",
    "```bash\n",
    "include init.ionpos\n",
    "include init.lattice\n",
    "````"
   ]
  },
  {
   "cell_type": "markdown",
   "id": "ed37d5e4",
   "metadata": {},
   "source": [
    "Next, we need to set our k-point sampling. To calculate many important parameters (electron density, density of states...) it is necessary to integrate over all k in the Brillouin zone. This integral is instead approximated with a sum over a discrete set of k-points. There are different ways to create this mesh, but we'll be using a Monkhorst Pack, which evenly distributes the points within the reciprocal lattice:\n",
    "<img src=\"../Pictures/JDFTx/Monkhorst_Pack.png\" alt=\"Monkhorst Pack\">\n",
    "[Image source](https://wiki.bnl.gov/CFN-Computation/images/3/34/K-point.pdf)"
   ]
  },
  {
   "cell_type": "markdown",
   "id": "a191ec7c",
   "metadata": {},
   "source": [
    "In general, larger unit cells require fewer k-points. In our case, we're going to use an 8x8x8 k-point mesh. To set up the k-point sampling in the in file, type\n",
    "```bash\n",
    "kpoint-folding 8 8 8\n",
    "```"
   ]
  },
  {
   "cell_type": "markdown",
   "id": "b528442a",
   "metadata": {},
   "source": [
    "We need to specify our psuedopotentials again, so make sure to include these lines in your in file\n",
    "```bash\n",
    "ion-species /projects/musgravc/apps/jdftx-1.6.0/build/pseudopotentials/GBRV_v1.5/$ID_pbe_v1.uspp\n",
    "ion-species /projects/musgravc/apps/jdftx-1.6.0/build/pseudopotentials/GBRV_v1.5/$ID_pbe_v1.uspp\n",
    "ion-species /projects/musgravc/apps/jdftx-1.6.0/build/pseudopotentials/GBRV_v1.5/$ID_pbe_v1.2.uspp\n",
    "ion-species /projects/musgravc/apps/jdftx-1.6.0/build/pseudopotentials/GBRV_v1.5/$ID_pbe_v1.4.uspp\n",
    "ion-species /projects/musgravc/apps/jdftx-1.6.0/build/pseudopotentials/GBRV_v1.5/$ID_pbe_v1.5.uspp\n",
    "```\n",
    "\n",
    "And include the cutoff energy tag:\n",
    "```bash\n",
    "elec-cutoff 20 100\n",
    "```"
   ]
  },
  {
   "cell_type": "markdown",
   "id": "ae95151c",
   "metadata": {},
   "source": [
    "We also want to optimize the geometry of our unit cell, so we have to add ionic-minimize tags. We're also going to use a new type of electronic state convergence algorithm called *Self Consistent Field* or *SCF* for short. SCF is an iterative method for solving the schroedinger equation for many electrons. SCF is the fastest method for electronic structure optimization in JDFTx, but we won't use it for bias calculations due to a convergence issue. For this solid metal calculation, it should not have that convergence issue.\n",
    "\n",
    "Add these lines to the in file\n",
    "```bash\n",
    "electronic-SCF                   #Electronic state optimization\n",
    "lattice-minimize nIterations 10\n",
    "```"
   ]
  },
  {
   "cell_type": "markdown",
   "id": "9869f7e0",
   "metadata": {},
   "source": [
    "Now we'll specify our output variables. In this case, we want to see how the nuclear positions change after each ionic step. To get the state after each ionic step, use the tag ```dump Ionic State```. Add these lines to your in file\n",
    "```bash\n",
    "dump-name Pt.$VAR\n",
    "dump End ElecDensity\n",
    "dump End Ecomponents\n",
    "dump Ionic State \n",
    "```"
   ]
  },
  {
   "cell_type": "markdown",
   "id": "681bd0f6",
   "metadata": {},
   "source": [
    "# Run calculation and view trajectory and electronic density in VESTA. Also consider viewing DOS. Then cut into a surface and run the surface calculation. Only need to analyze the surface energetics"
   ]
  },
  {
   "cell_type": "code",
   "execution_count": null,
   "id": "e85b78d8",
   "metadata": {},
   "outputs": [],
   "source": []
  }
 ],
 "metadata": {
  "kernelspec": {
   "display_name": "spy-env",
   "language": "python",
   "name": "spy-env"
  },
  "language_info": {
   "codemirror_mode": {
    "name": "ipython",
    "version": 3
   },
   "file_extension": ".py",
   "mimetype": "text/x-python",
   "name": "python",
   "nbconvert_exporter": "python",
   "pygments_lexer": "ipython3",
   "version": "3.10.4"
  }
 },
 "nbformat": 4,
 "nbformat_minor": 5
}
