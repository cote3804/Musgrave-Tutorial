{
 "cells": [
  {
   "cell_type": "markdown",
   "id": "3f2e48a6",
   "metadata": {},
   "source": [
    "# ASE Calculators"
   ]
  },
  {
   "cell_type": "markdown",
   "id": "b508c436",
   "metadata": {},
   "source": [
    "In this tutorial we will look at ASE's ability to run DFT calculations through python. This power is tremendous. It'll speed up our workflow by allowing us to control our entire DFT calculation using Python, without the need to write individual files for JDFTx.\n",
    "\n",
    "Frome ASE's documentation:\n",
    "\"For ASE, a calculator is a black box that can take atomic numbers and atomic positions from an ```Atoms``` object and calculate the energy and forces and sometimes also stresses.\"\n",
    "\n",
    "We will go through the general setup of an ASE calculator and then write a script to run a single point with JDFTx using the ASE calculator."
   ]
  },
  {
   "cell_type": "markdown",
   "id": "01d54136",
   "metadata": {},
   "source": [
    "The general format for running a DFT calculation in ASE is to first read in an ```Atoms``` object and append a calculator to a structure. The pseudocode looks like this:\n",
    "```python\n",
    "from ASE import Calculator\n",
    "from ASE import read\n",
    "\n",
    "structure = read(\"POSCAR\")\n",
    "structure.calc = Calculator(DFT_options)\n",
    "```"
   ]
  },
  {
   "cell_type": "markdown",
   "id": "6a4e015a",
   "metadata": {},
   "source": [
    "Then, we take an optimizer from ASE which is a prebuilt algorithm used to optimize the structure. We pass this optimizer our DFT calculation parameters, and run it.\n",
    "```python\n",
    "from ASE import Optimizer\n",
    "\n",
    "options = calculation_parameters\n",
    "opt = Optimizer\n",
    "dyn = opt(atoms, options)\n",
    "dyn.run(fmax, max_steps)\n",
    "```"
   ]
  },
  {
   "cell_type": "markdown",
   "id": "719f566a",
   "metadata": {},
   "source": [
    "#### What's actually happening\n",
    "\n",
    "The ```Calculator``` object that we import from ASE is an electronic structure calculator that uses some other DFT software to do the calculation. For example, one calculator can actually use VASP to perform electronic structure calculations. You can look at the [ASE VASP](https://wiki.fysik.dtu.dk/ase/ase/calculators/vasp.html#module-ase.calculators.vasp) documentation to see how to use it.\n",
    "\n",
    "So we use some other DFT code like VASP to calculate the electronic structure, and then return parameters to the ```Optimizer```. The ```Optzimizer``` then uses the forces returned by the ```Calculator``` to move the ionic positions in the structure.\n",
    "\n",
    "The ```Calculator``` itself can do more than just generate forces for the optimizer. Using the ```.get_vibrations``` can return the vibrational modes calculated by the ```Calculator```. In general, the ```Calculator``` does the hard DFT for ASE, and then ASE maniuplates structures and processes output files."
   ]
  },
  {
   "cell_type": "markdown",
   "id": "5e2455a8",
   "metadata": {},
   "source": [
    "#### Simple demonstration\n",
    "\n",
    "We're going to calculate the energy of a bulk FCC metal structure within this notebook. We'll use a computationally inexpensive algorithm built into ASE that will use classical potentials instead of performing DFT on the structure. The calculator is called [EMT](https://wiki.fysik.dtu.dk/ase/ase/calculators/emt.html). First let's get a bulk FCC Cu structure"
   ]
  },
  {
   "cell_type": "code",
   "execution_count": null,
   "id": "128d8202",
   "metadata": {},
   "outputs": [],
   "source": [
    "from ase.lattice.cubic import FaceCenteredCubic\n",
    "from ase.visualize import view\n",
    "from ase.calculators.emt import EMT\n",
    "\n",
    "atoms = FaceCenteredCubic(directions=[[1,0,0], [0,1,0], [0,0,1]],\n",
    "                          size=(2,2,2), symbol='Cu', pbc=(1,1,0))\n",
    "view(atoms)"
   ]
  },
  {
   "cell_type": "markdown",
   "id": "33e3d18a",
   "metadata": {},
   "source": [
    "We then set EMT as our calculator and add the calculator to the ```Atoms``` object. To run the calculator, we'll ask ASE to get the forces on each atom which will also generate the potential energy of the structure."
   ]
  },
  {
   "cell_type": "code",
   "execution_count": null,
   "id": "c381e69f",
   "metadata": {},
   "outputs": [],
   "source": [
    "calculator = EMT()\n",
    "atoms.calc = calculator\n",
    "atoms.get_forces()"
   ]
  },
  {
   "cell_type": "markdown",
   "id": "cfb8b823",
   "metadata": {},
   "source": [
    "Above you'll see that the force vectors on each atom in the lattice were printed"
   ]
  },
  {
   "cell_type": "code",
   "execution_count": null,
   "id": "38db2540",
   "metadata": {},
   "outputs": [],
   "source": [
    "results = calculator.results\n",
    "print(results['energy'])"
   ]
  },
  {
   "cell_type": "markdown",
   "id": "5fe9ca12",
   "metadata": {},
   "source": [
    "This value that ASE claims is \"energy\" looks quite different than our DFT energies, which are normally on the order of hundreds of Hartree. If I cut this cell in half by only doubling across two periodic boundaries, I get half the energy."
   ]
  },
  {
   "cell_type": "code",
   "execution_count": null,
   "id": "38773ca1",
   "metadata": {},
   "outputs": [],
   "source": [
    "atoms = FaceCenteredCubic(directions=[[1,0,0], [0,1,0], [0,0,1]],\n",
    "                          size=(1,2,2), symbol='Cu', pbc=(1,1,0)) #1/2 the unit cell size\n",
    "view(atoms)\n",
    "calculator = EMT()\n",
    "atoms.calc = calculator\n",
    "atoms.get_forces()\n",
    "print(calculator.results['energy'])"
   ]
  },
  {
   "cell_type": "markdown",
   "id": "53d5746c",
   "metadata": {},
   "source": [
    "So then this energy that ASE has calculated for us is some type of total energy that has been evaluated using a really simple classical analysis technique that we would never use in our research. Instead, we are going to calculate things using JDFTx as our calculator. Let's begin writing a script to do this.\n",
    "\n",
    "## JDFTx Calculator\n",
    "\n",
    "We are only going to run single points on our converged Pt_111 structure. Pull the CONTCAR files off of Alpine and store them anywhere in your computer. The CONTCAR is also in the files section of the tutorial.\n",
    "\n",
    "\n",
    "The next section of code won't work on your local computer. Eventually we'll just copy all of it into a script on Alpine. At the end of this section I'll have a full code block that can be copied."
   ]
  },
  {
   "cell_type": "code",
   "execution_count": null,
   "id": "4b80ad1e",
   "metadata": {},
   "outputs": [],
   "source": [
    "from ase.io import read #import read function\n",
    "import os\n",
    "\n",
    "path = \"C:\\\\Users\\\\coopy\\\\OneDrive - UCB-O365\\\\Desktop\\\\temp\" #replace this with the path to your CONTCAR file\n",
    "\n",
    "structure = read(os.path.join(path,\"CONTCAR\")) #initialize from converged structure\n",
    "view(structure)"
   ]
  },
  {
   "cell_type": "markdown",
   "id": "0337287d",
   "metadata": {},
   "source": [
    "Now we need to initialize our JDFTx calculator. To do so, we're going to reference a scipt called ```JDFTx.py```, which was written by the group that developed JDFTx. This script basically uses python to call JDFTx and formats everything correctly so that we can use it as an ASE calculator. The syntax will be slightly different that the cases above because we are directly calling a script instead of opening a pre-built ASE module.\n",
    "\n",
    "We need to pass the ```JDFTx.py``` script a few things. We need to give it the path to the psuedopotentials, the ```in``` file tags, the bash execute command, and the calculation directory.\n",
    "\n",
    "We need to pass the input tags as a list of tuples. We are going to use the input tags from the calculation we did using JDFTx natively. We also need to pass it the executable command that points to the JDFTx installation and gives the number of processes to run."
   ]
  },
  {
   "cell_type": "code",
   "execution_count": null,
   "id": "d5140d14",
   "metadata": {},
   "outputs": [],
   "source": [
    "jdft_tags = [('elec-n-bands', '192'), #in file tags\n",
    "             ('kpoint-folding', '6 6 1'),\n",
    "             ('elec-cutoff', '20 100'),\n",
    "             ('dump-name', 'Pt_11.$VAR'),\n",
    "             ('dump End', 'State'),\n",
    "             ('dump End', 'Ecomponents')\n",
    "            ]\n",
    "\n",
    "exe_cmd = 'mpirun -np 8 /home/nisi6161/jdftx_alpine/build/jdftx' #points to JDFTx installation"
   ]
  },
  {
   "cell_type": "markdown",
   "id": "088c5ac0",
   "metadata": {},
   "source": [
    "Now we specify the ID of the pseudopotentials which will point to our pseudopotential path by bash environment variable. We also specify that we want to output files to our current directory."
   ]
  },
  {
   "cell_type": "code",
   "execution_count": null,
   "id": "39b0bfd6",
   "metadata": {},
   "outputs": [],
   "source": [
    "pseudos = 'GBRV'\n",
    "out_file = os.getcwd() #get current path"
   ]
  },
  {
   "cell_type": "markdown",
   "id": "40c7e803",
   "metadata": {},
   "source": [
    "Now we can use the JDFTx script with all of our input arguments as the calculator, and attach it to the structure."
   ]
  },
  {
   "cell_type": "code",
   "execution_count": null,
   "id": "d6205168",
   "metadata": {},
   "outputs": [],
   "source": [
    "from JDFTx import JDFTx #importing the JDFTx.py script for the Calculator\n",
    "\n",
    "calculator = JDFTx(commands=jdft_tags, executable=exe_cmd, outfile=out_file, pseudoSet = pseudos)\n",
    "structure.set_calculator(calculator)\n"
   ]
  },
  {
   "cell_type": "markdown",
   "id": "8c0ddba9",
   "metadata": {},
   "source": [
    "The DFT parameters are set up, but we still need to run an optimizer to actually run this calculation. Wer're going to use the [FIRE](https://wiki.fysik.dtu.dk/ase/_modules/ase/optimize/fire.html) optimization algorithm built into ASE. We need to import that package and instantiate it using our output file name and our optimization step size."
   ]
  },
  {
   "cell_type": "code",
   "execution_count": null,
   "id": "5713d5c8",
   "metadata": {},
   "outputs": [],
   "source": [
    "from ase.optimize import FIRE\n",
    "\n",
    "opt_alpha = 120 # optimization step size\n",
    "\n",
    "dyn = FIRE(structure, logfile='opt.log', a=(opt_alpha/70) * 0.1) # instantiate optimizer"
   ]
  },
  {
   "cell_type": "markdown",
   "id": "97a27b64",
   "metadata": {},
   "source": [
    "For some reason we also need to attach trajectory files to the optimizer."
   ]
  },
  {
   "cell_type": "code",
   "execution_count": null,
   "id": "efc70607",
   "metadata": {},
   "outputs": [],
   "source": [
    "from ase.io.trajectory import Trajectory\n",
    "\n",
    "traj = Trajectory('opt.traj', 'w', structure, properties=['energy', 'forces'])\n",
    "dyn.attach(traj.write, interval=1)"
   ]
  },
  {
   "cell_type": "markdown",
   "id": "7d18053b",
   "metadata": {},
   "source": [
    "Now we run the calculation with our convergence criteria."
   ]
  },
  {
   "cell_type": "code",
   "execution_count": null,
   "id": "6dcabb72",
   "metadata": {},
   "outputs": [],
   "source": [
    "fmax = 0.04\n",
    "max_steps = 1 #singlepoint\n",
    "dyn.run(fmax=fmax, steps=max_steps)\n",
    "traj.close() # closing trajectory file after writing to it."
   ]
  },
  {
   "cell_type": "markdown",
   "id": "5244e16e",
   "metadata": {},
   "source": [
    "Here's the full code block. Copy it into a file called ```calculate.py``` on Alpine."
   ]
  },
  {
   "cell_type": "code",
   "execution_count": null,
   "id": "3716fb4c",
   "metadata": {},
   "outputs": [],
   "source": [
    "#!/usr/bin/env python3\n",
    "from ase.io import read #import read function\n",
    "import os\n",
    "from JDFTx import JDFTx #importing the JDFTx.py script for the Calculator\n",
    "from ase.optimize import FIRE\n",
    "from ase.io.trajectory import Trajectory\n",
    "\n",
    "structure = read(\"CONTCAR\") #initialize from converged structure\n",
    "\n",
    "jdft_tags = [('elec-n-bands', '192'), #in file tags\n",
    "             ('kpoint-folding', '6 6 1'),\n",
    "             ('elec-cutoff', '20 100'),\n",
    "             ('dump-name', 'Pt_11.$VAR'),\n",
    "             ('dump', 'End State'),\n",
    "             ('dump', 'End Ecomponents')\n",
    "            ]\n",
    "exe_cmd = 'mpirun -np 8 /home/nisi6161/jdftx_alpine/build/jdftx' #points to JDFTx installation\n",
    "pseudos = 'GBRV'\n",
    "\n",
    "calculator = JDFTx(commands=jdft_tags, executable=exe_cmd, outfile=os.getcwd(), pseudoSet = pseudos)\n",
    "structure.set_calculator(calculator)\n",
    "\n",
    "opt_alpha = 120 # optimization step size\n",
    "dyn = FIRE(structure, logfile='opt.log', a=(opt_alpha/70) * 0.1) # instantiate optimizer\n",
    "\n",
    "traj = Trajectory('opt.traj', 'w', structure, properties=['energy', 'forces'])\n",
    "dyn.attach(traj.write, interval=1)\n",
    "\n",
    "fmax = 0.04\n",
    "max_steps = 1 #singlepoint\n",
    "dyn.run(fmax=fmax, steps=max_steps)\n",
    "traj.close() # closing trajectory file after writing to it."
   ]
  },
  {
   "cell_type": "markdown",
   "id": "490b9a26",
   "metadata": {},
   "source": [
    "We also need a submission script to tell Alpine to run our script. You can copy the script I have below:\n",
    "```bash\n",
    "#!/bin/bash\n",
    "#SBATCH -J Calculator\n",
    "#SBATCH --time=23:00:00\n",
    "#SBATCH -o calculate-%j.out\n",
    "#SBATCH -e calculate-%j.err\n",
    "#SBATCH --tasks 8\n",
    "#SBATCH --nodes 1\n",
    "#SBATCH --ntasks-per-node 8\n",
    "#SBATCH --account=ucb-general\n",
    "#SBATCH --partition amilan\n",
    "#SBATCH --qos=normal\n",
    "\n",
    "export JDFTx_NUM_PROCS=2\n",
    "export I_MPI_FABRICS=shm\n",
    "\n",
    "module load intel impi\n",
    "\n",
    "python calculate.py > Pt_111\n",
    "exit 0\n",
    "```"
   ]
  },
  {
   "cell_type": "markdown",
   "id": "d9b020e1",
   "metadata": {},
   "source": [
    "Run this submission script in a new directory with the converged Pt_111 CONTCAR and the ```calculate.py``` script. If the script is working, you should see an ```in``` and ```out``` file that the script creates in the calculation directory. If the calculation fails and the slurm error file says it can't find JDFTx.py, add this line to your ```.jdft.bashrc```.\n",
    "```bash\n",
    "export PYTHONPATH=$PYTHONPATH:/home/cote3804/Coop_BEAST_DB_Manager/manager/\n",
    "```"
   ]
  },
  {
   "cell_type": "markdown",
   "id": "a9c7f7b3",
   "metadata": {},
   "source": [
    "## Why this matters\n",
    "\n",
    "That certainly seemed cumbersome to run DFT through python! We had to manually specify the same stuff we're used to specifying in the in file, but this time we also had to write a lot more code. The beauty of this method is in the potential for automation. Now that we have a pythonic way of submitting calculations, we can build a large python workflow and submit many calculations in one script.\n",
    "\n",
    "The group has already written scripts that speed up calculation submission via python. Continue onto the next tutorial called **run_JDFTx** to see how easy it is to submit calculations with python. "
   ]
  },
  {
   "cell_type": "code",
   "execution_count": null,
   "id": "64d754ac",
   "metadata": {},
   "outputs": [],
   "source": []
  }
 ],
 "metadata": {
  "kernelspec": {
   "display_name": "spy-env",
   "language": "python",
   "name": "spy-env"
  },
  "language_info": {
   "codemirror_mode": {
    "name": "ipython",
    "version": 3
   },
   "file_extension": ".py",
   "mimetype": "text/x-python",
   "name": "python",
   "nbconvert_exporter": "python",
   "pygments_lexer": "ipython3",
   "version": "3.10.9"
  }
 },
 "nbformat": 4,
 "nbformat_minor": 5
}
