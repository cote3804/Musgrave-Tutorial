{
 "cells": [
  {
   "cell_type": "markdown",
   "id": "994be891",
   "metadata": {},
   "source": [
    "# Structure Manipulation\n",
    "\n",
    "In this tutorial we will learn how to manipualte chemical structures using [ASE](https://wiki.fysik.dtu.dk/ase/ase/atoms.html#module-ase.atoms). ASE is one of the most important tools to be comfortable with to be succesful in the Musgrave group. It allows us to quickly manipulate structures (cutting surfaces, adding adsorbates, rotating molecules... etc.) and run DFT calculations using JDFTx. Furthermore, ASE is the package that underpins the high throughput script stack in our group, so it is necessary to understand to be able to troubleshoot high throughput problems. \n",
    "This notebook will be executed with python, so no terminal is necessary."
   ]
  },
  {
   "cell_type": "code",
   "execution_count": 3,
   "id": "9af5c094",
   "metadata": {},
   "outputs": [],
   "source": [
    "from ase import Atoms #need to import ASE functions \n",
    "from ase.visualize import view"
   ]
  },
  {
   "cell_type": "markdown",
   "id": "90173375",
   "metadata": {},
   "source": [
    "### Atoms\n",
    "\n",
    "ASE uses an object called ```Atoms``` to represent all chemical structures. Just like any other object, we can instantiate one by calling the name of the object. Let's say we want to create an N2 molecule using ASE. To do so, we can instantiate the object using the names of the elements in the objects followed by their positions"
   ]
  },
  {
   "cell_type": "code",
   "execution_count": 4,
   "id": "805316c3",
   "metadata": {},
   "outputs": [],
   "source": [
    "N2_molecule = Atoms('NN', positions=[(0,0,0),(0,0,1.1081)])"
   ]
  },
  {
   "cell_type": "markdown",
   "id": "7a090f4a",
   "metadata": {},
   "source": [
    "It may not seem like we've done anything because we can't tell if any structure was actually made. To visualize the sctructure, we can use the ```view``` function that we imported above."
   ]
  },
  {
   "cell_type": "code",
   "execution_count": 5,
   "id": "ddae7b36",
   "metadata": {},
   "outputs": [
    {
     "data": {
      "text/plain": [
       "<Popen: returncode: None args: ['C:\\\\Users\\\\coopy\\\\anaconda3\\\\envs\\\\spy-env\\...>"
      ]
     },
     "execution_count": 5,
     "metadata": {},
     "output_type": "execute_result"
    }
   ],
   "source": [
    "view(N2_molecule)"
   ]
  },
  {
   "cell_type": "markdown",
   "id": "4f0d58b7",
   "metadata": {},
   "source": [
    "We can see now that the ```N2_molecule``` instance of the ```Atoms``` structure does in fact represent our N2 molecule. However, it's quite inconvenient to create an Atoms object by specifying all the elements and positions manually. Instead, let's read in a POSCAR structure and convert it into an Atoms object."
   ]
  },
  {
   "cell_type": "markdown",
   "id": "a877aaab",
   "metadata": {},
   "source": [
    "### Reading and Writing"
   ]
  },
  {
   "cell_type": "code",
   "execution_count": 6,
   "id": "1967efc7",
   "metadata": {},
   "outputs": [],
   "source": [
    "from ase.io import read, write"
   ]
  },
  {
   "cell_type": "markdown",
   "id": "3d310577",
   "metadata": {},
   "source": [
    "We are going to read in our N2 molecule directly from the github ```files/N2/``` directory in the tutorial files. To read in the POSCAR, all we need to do is pass the path to the ```read()``` function"
   ]
  },
  {
   "cell_type": "code",
   "execution_count": 7,
   "id": "bac103ba",
   "metadata": {},
   "outputs": [
    {
     "data": {
      "text/plain": [
       "<Popen: returncode: None args: ['C:\\\\Users\\\\coopy\\\\anaconda3\\\\envs\\\\spy-env\\...>"
      ]
     },
     "execution_count": 7,
     "metadata": {},
     "output_type": "execute_result"
    }
   ],
   "source": [
    "N2_molecule = read(\"../Files/N2/POSCAR\")\n",
    "view(N2_molecule)"
   ]
  },
  {
   "cell_type": "markdown",
   "id": "b60204e7",
   "metadata": {},
   "source": [
    "You'll notice that this molecule looks different than the one we visualized initially. In the first visualization, there was no unit cell boundaries and the molecule existed in an infinite vacuum. However, when we initialized our structure from a POSCAR, ASE depicted it as a periodic unit cell containing an N<sub>2</sub> molecule. For all of the POSCARs we are working with, they will always be periodic unit cells.\n",
    "\n",
    "Now that we've read the file, let's save it as a POSCAR to a more accessible location. In this case, I'm going to save it to my Desktop. To do that, you'll need the path to your Desktop. In my case, it's ```C:\\Users\\coopy\\OneDrive - UCB-O365\\Desktop```. We can use the ```write()``` function imported above to save the file. Make sure you specify the file format since ASE can write to a variety of [file formats](https://wiki.fysik.dtu.dk/ase/ase/io/io.html)."
   ]
  },
  {
   "cell_type": "code",
   "execution_count": 8,
   "id": "1ee47577",
   "metadata": {},
   "outputs": [],
   "source": [
    "path = \"C:\\\\Users\\\\coopy\\\\OneDrive - UCB-O365\\\\Desktop\\\\POSCAR\" # Single backslash won't work\n",
    "# need to speciy POSCAR at the end of the path string to give it the file name\n",
    "write(path, N2_molecule, format='vasp')"
   ]
  },
  {
   "cell_type": "markdown",
   "id": "b6952563",
   "metadata": {},
   "source": [
    "You should have noticed that a ```POSCAR``` file showed up on your desktop. These ```read()``` and ```write()``` functions are quite general and powerful, and will be used countless times throughout our high throughput script stack."
   ]
  },
  {
   "cell_type": "markdown",
   "id": "0ca3a8b8",
   "metadata": {},
   "source": [
    "### Supercells"
   ]
  },
  {
   "cell_type": "markdown",
   "id": "524947fe",
   "metadata": {},
   "source": [
    "Now we'll look at repeating the unit cell along its lattice directions to create a supercell. A nitrogen molecule supercell doesn't really make sense, so we're going to start looking at bulk Pt instead. Start by initializing the structure from the ```POSCAR_bulk``` in ```../Files/Pt_111/```"
   ]
  },
  {
   "cell_type": "code",
   "execution_count": 9,
   "id": "52cf5656",
   "metadata": {},
   "outputs": [],
   "source": [
    "# Try to initialize this structure yourself\n",
    "# The path you'll need is path=\"../Files/Pt_111/POSCAR_bulk\"\n",
    "# Make \"Pt\" the variable name for your structure "
   ]
  },
  {
   "cell_type": "code",
   "execution_count": null,
   "id": "ab6f8d36",
   "metadata": {},
   "outputs": [],
   "source": []
  },
  {
   "cell_type": "markdown",
   "id": "454edc90",
   "metadata": {},
   "source": [
    "If you view this structure, you'll notice it looks a little odd. First, there are only 4 spheres in our cubic lattice, because the view function isn't showing the repeated atoms on the periodic boundaries. If you want to view it with those atoms to help see it better, I recommend using VESTA. You can use the ```write()``` function to save it to your Desktop and drag it into VESTA\n",
    "\n",
    "<img src=\"../Pictures/ASE/Pt_Vesta.png\" alt=\"Pt Vesta\">\n",
    "\n",
    "In VESTA it is more apparent that we do in fact have a cubic crystal structure of Pt. What [bravais lattice](https://byjus.com/chemistry/bravais-lattice/) is this unit cell? Are we using [the primitive lattice vectors](https://eis.hu.edu.jo/ACUploads/10010/crystal_structure_3.pdf) (first page of this link) to specify it? Both of these questions are more easily answered using the ```view()``` function."
   ]
  },
  {
   "cell_type": "markdown",
   "id": "45033fda",
   "metadata": {},
   "source": [
    "Now, let's make it a supercell in all 3 lattice directions. In order to do so, we just need to call the function ```make_supercell()```"
   ]
  },
  {
   "cell_type": "code",
   "execution_count": null,
   "id": "7d0eb2ac",
   "metadata": {},
   "outputs": [],
   "source": [
    "from ase.build import make_supercell\n",
    "scale_factor = [[2,0,0],[0,2,0],[0,0,2]] # tells ASE to double the unit cell in each (x,y,z) direction\n",
    "Pt_super = make_supercell(Pt, scale_factor)\n",
    "view(Pt_super)"
   ]
  },
  {
   "cell_type": "markdown",
   "id": "0bed4b05",
   "metadata": {},
   "source": [
    "We can see that the unit cell got bigger and now looks more crystalline. For some proof that we did double the unit cell in each direction, let's print the lattice vectors and list of ions in the original unit cell and the supercell. The lattice vectors should double in all directions and the number of atoms should be multiplied by 2<sup>3</sup>."
   ]
  },
  {
   "cell_type": "code",
   "execution_count": null,
   "id": "d061434a",
   "metadata": {},
   "outputs": [],
   "source": [
    "print(Pt.get_cell()) #get unit cell and atomic symbols for original Pt unit cell\n",
    "print(Pt.get_chemical_symbols())\n",
    "print(len(Pt.get_chemical_symbols()))"
   ]
  },
  {
   "cell_type": "code",
   "execution_count": null,
   "id": "f5c886ab",
   "metadata": {},
   "outputs": [],
   "source": [
    "print(Pt_super.get_cell()) \n",
    "print(Pt_super.get_chemical_symbols())\n",
    "print(len(Pt_super.get_chemical_symbols()))"
   ]
  },
  {
   "cell_type": "markdown",
   "id": "2225a7b1",
   "metadata": {},
   "source": [
    "Indeed, we successfully doubled the unit cell in all directions. Notice as well that there are a bunch of built-in methods that can [give you data](https://wiki.fysik.dtu.dk/ase/ase/atoms.html) in a readable format about ```Atoms``` objects."
   ]
  },
  {
   "cell_type": "markdown",
   "id": "6bd9bccc",
   "metadata": {},
   "source": [
    "### Pymatgen"
   ]
  },
  {
   "cell_type": "markdown",
   "id": "d111e085",
   "metadata": {},
   "source": [
    "Now that we have a bulk unit cell, we can cut it into a surface. While we can do this with ASE, it's much easier to use [Pymatgen](https://pymatgen.org/introduction.html). Pymatgen is a completely different python package than ASE they cannot be mixed together. While ASE uses the ```Atoms``` object to represent chemical structures, pymatgen uses the ```Structure``` object. ASE methods and functions cannot be used on pymatgen structures and vice versa. Fortunately, both packages allow us to convert in between pymatgen and ASE. "
   ]
  },
  {
   "cell_type": "code",
   "execution_count": null,
   "id": "24434308",
   "metadata": {},
   "outputs": [],
   "source": [
    "from pymatgen.io.ase import AseAtomsAdaptor\n",
    "\n",
    "pymatgen_structure = AseAtomsAdaptor.get_structure(Pt_super)\n",
    "print(type(pymatgen_structure))"
   ]
  },
  {
   "cell_type": "code",
   "execution_count": 1,
   "id": "943431cb",
   "metadata": {},
   "outputs": [
    {
     "ename": "NameError",
     "evalue": "name 'pymatgen_structure' is not defined",
     "output_type": "error",
     "traceback": [
      "\u001b[1;31m---------------------------------------------------------------------------\u001b[0m",
      "\u001b[1;31mNameError\u001b[0m                                 Traceback (most recent call last)",
      "\u001b[1;32m~\\AppData\\Local\\Temp\\ipykernel_11092\\2738376236.py\u001b[0m in \u001b[0;36m<cell line: 2>\u001b[1;34m()\u001b[0m\n\u001b[0;32m      1\u001b[0m \u001b[1;32mfrom\u001b[0m \u001b[0mpymatgen\u001b[0m\u001b[1;33m.\u001b[0m\u001b[0mvis\u001b[0m\u001b[1;33m.\u001b[0m\u001b[0mstructure_vtk\u001b[0m \u001b[1;32mimport\u001b[0m \u001b[0mStructureVis\u001b[0m\u001b[1;33m\u001b[0m\u001b[1;33m\u001b[0m\u001b[0m\n\u001b[1;32m----> 2\u001b[1;33m \u001b[0mvisualize\u001b[0m \u001b[1;33m=\u001b[0m \u001b[0mStructureVis\u001b[0m\u001b[1;33m(\u001b[0m\u001b[1;33m)\u001b[0m\u001b[1;33m.\u001b[0m\u001b[0mset_structure\u001b[0m\u001b[1;33m(\u001b[0m\u001b[0mpymatgen_structure\u001b[0m\u001b[1;33m)\u001b[0m\u001b[1;33m\u001b[0m\u001b[1;33m\u001b[0m\u001b[0m\n\u001b[0m",
      "\u001b[1;31mNameError\u001b[0m: name 'pymatgen_structure' is not defined"
     ]
    }
   ],
   "source": [
    "from pymatgen.vis.structure_vtk import StructureVis\n",
    "visualize = StructureVis().set_structure(pymatgen_structure)"
   ]
  },
  {
   "cell_type": "code",
   "execution_count": null,
   "id": "014a192e",
   "metadata": {},
   "outputs": [],
   "source": [
    "from pymatgen.core.surface import SlabGenerator"
   ]
  }
 ],
 "metadata": {
  "kernelspec": {
   "display_name": "spy-env",
   "language": "python",
   "name": "spy-env"
  },
  "language_info": {
   "codemirror_mode": {
    "name": "ipython",
    "version": 3
   },
   "file_extension": ".py",
   "mimetype": "text/x-python",
   "name": "python",
   "nbconvert_exporter": "python",
   "pygments_lexer": "ipython3",
   "version": "3.10.4"
  }
 },
 "nbformat": 4,
 "nbformat_minor": 5
}
