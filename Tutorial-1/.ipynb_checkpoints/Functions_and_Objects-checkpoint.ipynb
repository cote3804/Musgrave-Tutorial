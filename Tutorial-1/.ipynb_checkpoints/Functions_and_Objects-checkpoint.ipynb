{
 "cells": [
  {
   "cell_type": "markdown",
   "id": "ff56c1a3",
   "metadata": {},
   "source": [
    "# Functions and Object Oriented Programming"
   ]
  },
  {
   "cell_type": "markdown",
   "id": "8a25f829",
   "metadata": {},
   "source": [
    "This notebook will introduce a few more python concepts that are slightly more complex. The first of those topics is *functions*. Functions can be used to automate repetitive tasks and avoid copying code blocks. All functions begin with a definition syntax. In python the syntax is:"
   ]
  },
  {
   "cell_type": "code",
   "execution_count": 1,
   "id": "24107fa1",
   "metadata": {},
   "outputs": [
    {
     "ename": "IndentationError",
     "evalue": "expected an indented block (Temp/ipykernel_6756/2594476373.py, line 1)",
     "output_type": "error",
     "traceback": [
      "\u001b[1;36m  File \u001b[1;32m\"C:\\Users\\coopy\\AppData\\Local\\Temp/ipykernel_6756/2594476373.py\"\u001b[1;36m, line \u001b[1;32m1\u001b[0m\n\u001b[1;33m    def function(input1, input2, input3=optional):\u001b[0m\n\u001b[1;37m                                                  ^\u001b[0m\n\u001b[1;31mIndentationError\u001b[0m\u001b[1;31m:\u001b[0m expected an indented block\n"
     ]
    }
   ],
   "source": [
    "def function(input1, input2, input3=optional):"
   ]
  },
  {
   "cell_type": "markdown",
   "id": "b05a319c",
   "metadata": {},
   "source": [
    "the __def__ keyword is used before the name of the function and it signals to python that the remaining code will correspond to a function definition. The name of the function is __function__ and it has 3 inputs. input1 and input2 are required each time the function is called, but input3 isn't. To create optional function arguments, the '=' sign must be used and the default argument for that input follows the '=' sign. \n",
    "\n",
    "To illustrate function definition, I'll create a function called *multiply* that multiplies two required arguments given to it and prints a message if I set the third input variable to True"
   ]
  },
  {
   "cell_type": "code",
   "execution_count": 7,
   "id": "b245e907",
   "metadata": {},
   "outputs": [],
   "source": [
    "def multiply(arg1, arg2, verbose=False):\n",
    "    if verbose is True:\n",
    "        print('the product is', arg1*arg2)\n",
    "    return arg1 * arg2"
   ]
  },
  {
   "cell_type": "markdown",
   "id": "e1dd109c",
   "metadata": {},
   "source": [
    "Notice I've introduced a few more key terms. The <span style=\"color:green\"> return </span> keyword is used to tell python what value the function needs to return when it's called. So, in the case above, *multiply* returns the product of arg1 and arg2. While many functions return a value, they don't need to. The function does not need a <span style=\"color:green\"> return </span> keyword to be correct. To break back out of the function definition into regular code, just end the indentation."
   ]
  },
  {
   "cell_type": "markdown",
   "id": "d39c3d52",
   "metadata": {},
   "source": [
    "Now that we have defined the _multiply_ function above, the function is stored in memory and can be used below. To use a function, call its name with parenthesis and inputs."
   ]
  },
  {
   "cell_type": "code",
   "execution_count": 4,
   "id": "04a2eaf7",
   "metadata": {},
   "outputs": [
    {
     "data": {
      "text/plain": [
       "200"
      ]
     },
     "execution_count": 4,
     "metadata": {},
     "output_type": "execute_result"
    }
   ],
   "source": [
    "multiply(10,20)"
   ]
  },
  {
   "cell_type": "markdown",
   "id": "d12470f5",
   "metadata": {},
   "source": [
    "The function was called above, but the value it returned wasn't stored in any variable. To store the return value from the function, simply put a variable and '=' sign in front of the function call."
   ]
  },
  {
   "cell_type": "code",
   "execution_count": 9,
   "id": "c7151186",
   "metadata": {},
   "outputs": [
    {
     "name": "stdout",
     "output_type": "stream",
     "text": [
      "200\n"
     ]
    }
   ],
   "source": [
    "product = multiply(10,20)\n",
    "print(product)"
   ]
  },
  {
   "cell_type": "markdown",
   "id": "7670c16c",
   "metadata": {},
   "source": [
    "If we want to use the optional argument _verbose_, we can do so by using an '=' sign in the function call."
   ]
  },
  {
   "cell_type": "code",
   "execution_count": 8,
   "id": "d88f41a8",
   "metadata": {},
   "outputs": [
    {
     "name": "stdout",
     "output_type": "stream",
     "text": [
      "the product is 200\n"
     ]
    }
   ],
   "source": [
    "product = multiply(10, 20, verbose=True)"
   ]
  },
  {
   "cell_type": "markdown",
   "id": "d66dabb5",
   "metadata": {},
   "source": [
    "By specifying _verbose = True_, that optional variable is set to true and the function prints the conditional string. Functions are useful because they allow one to write one piece of code and deploy it multiple times across different scripts. I can deploy the above function in a for loop to calculate a set of products."
   ]
  },
  {
   "cell_type": "code",
   "execution_count": 10,
   "id": "e8f6df54",
   "metadata": {},
   "outputs": [
    {
     "name": "stdout",
     "output_type": "stream",
     "text": [
      "1\n",
      "4\n",
      "9\n",
      "16\n",
      "25\n",
      "36\n"
     ]
    }
   ],
   "source": [
    "numbers_list = [1, 2, 3, 4, 5, 6]\n",
    "\n",
    "for number in numbers_list:\n",
    "    product = multiply(number,number)\n",
    "    print(product)"
   ]
  },
  {
   "cell_type": "markdown",
   "id": "2b80594c",
   "metadata": {},
   "source": [
    "### Practice \n",
    "\n",
    "Your turn to build a function. Make a function that takes a string as an input and returns a list of the indidivual words in the string. I recommend looking [here](https://www.w3schools.com/jsref/jsref_split.asp#:~:text=The%20split()%20method%20splits,string%20is%20split%20between%20words.) for help on doing this string manipulation."
   ]
  },
  {
   "cell_type": "code",
   "execution_count": null,
   "id": "5c99bc79",
   "metadata": {},
   "outputs": [],
   "source": []
  },
  {
   "cell_type": "markdown",
   "id": "56c92ba9",
   "metadata": {},
   "source": [
    "## Object Oriented Programming (OOP)\n",
    "\n",
    "This subject is quite large and starts to incorporate some complex topics like memory efficiency and class structure. If you want to learn more about object oriented programming, I'd recommend taking an online course. In this tutorial, we're just going to learn enough object oriented programming to know how to use it for our purposes."
   ]
  },
  {
   "cell_type": "markdown",
   "id": "dce3ceab",
   "metadata": {},
   "source": [
    "### classes\n",
    "\n",
    "You can think of classes as special objects in python that contain unique information and operations. This concept is quite hard to understand without coding it yourself, so no worries if it doesn't make sense from a description. \n",
    "\n",
    "Let's start by defining a class called __my_class__. The _pass_ syntax is used to prevent python from throwing an error message when we leave that section of code empty."
   ]
  },
  {
   "cell_type": "code",
   "execution_count": 3,
   "id": "463c2278",
   "metadata": {},
   "outputs": [],
   "source": [
    "class my_class:\n",
    "    pass"
   ]
  },
  {
   "cell_type": "markdown",
   "id": "0114168a",
   "metadata": {},
   "source": [
    "Notice that, unlike a function, the class doesn't have any arguments. You can technically pass arguments directly to the class using something called a _constructor_, but that won't be covered here.\n",
    "\n",
    "Now that we've defined our class, we need to _instantiate_ it, which basically just means we need to call the class. To call __my_class__, we can use this syntax:"
   ]
  },
  {
   "cell_type": "code",
   "execution_count": 15,
   "id": "96873f34",
   "metadata": {},
   "outputs": [
    {
     "name": "stdout",
     "output_type": "stream",
     "text": [
      "<class '__main__.my_class'>\n"
     ]
    }
   ],
   "source": [
    "my_class_instance = my_class()\n",
    "print(type(my_class_instance))"
   ]
  },
  {
   "cell_type": "markdown",
   "id": "a375ce59",
   "metadata": {},
   "source": [
    "the __my_class_instance__ variable is called an _instance_, because it contains the instantiated version of the class. We can instantiate this class multiple times and create many different instances:"
   ]
  },
  {
   "cell_type": "code",
   "execution_count": 16,
   "id": "fa2a6cd7",
   "metadata": {},
   "outputs": [],
   "source": [
    "instance_1 = my_class()\n",
    "instance_2 = my_class()\n",
    "instance_3 = my_class()"
   ]
  },
  {
   "cell_type": "markdown",
   "id": "83459347",
   "metadata": {},
   "source": [
    "Each of these instances are separate in the sense that operations performed on instance_1, wont affect the other instances. Classes must be instantiated before they can be used to store data and perform manipulations."
   ]
  },
  {
   "cell_type": "markdown",
   "id": "65916f78",
   "metadata": {},
   "source": [
    "#### Attributes\n",
    "\n",
    "Classes store data in the form of class _attributes_. These attributes are are named variables stored within the class. For example, I want to store the value 100 in __my_class__ and to do so I am going to store it in the variable __my_number__"
   ]
  },
  {
   "cell_type": "code",
   "execution_count": 17,
   "id": "0a6dc8ca",
   "metadata": {},
   "outputs": [],
   "source": [
    "my_class_instance.my_number = 100"
   ]
  },
  {
   "cell_type": "markdown",
   "id": "95dd989b",
   "metadata": {},
   "source": [
    "Notice the strange syntax. The \".\" symbol is used to call one of the attributes associated with __my_class__. This is the general structure for accessing data and performing operations on classes in python.\n",
    "\n",
    "Now, if I want to access the class attribute I just stored, I can do so in a similar manner."
   ]
  },
  {
   "cell_type": "code",
   "execution_count": 18,
   "id": "72933fd7",
   "metadata": {},
   "outputs": [
    {
     "name": "stdout",
     "output_type": "stream",
     "text": [
      "100\n"
     ]
    }
   ],
   "source": [
    "print(my_class_instance.my_number)"
   ]
  },
  {
   "cell_type": "markdown",
   "id": "36e96b42",
   "metadata": {},
   "source": [
    "#### Methods\n",
    "\n",
    "Classes also have operations associated with them that can be used to process data stored within the class. These operations are called _methods_. Class methods look similar to attributes, but they act like functions.\n",
    "\n",
    "Below, I am going to define a class attribute that takes the my_number variable associated with the class and combines it with another input string, and then prints it. It is best practice to define the class with all of its methods at once."
   ]
  },
  {
   "cell_type": "code",
   "execution_count": 20,
   "id": "a6988a98",
   "metadata": {},
   "outputs": [
    {
     "name": "stdout",
     "output_type": "stream",
     "text": [
      "my favorite number is  100\n"
     ]
    }
   ],
   "source": [
    "class my_class:\n",
    "    def __init__(self): #this function is the constructor. It can be ignored\n",
    "        pass\n",
    "    \n",
    "    def number_combine(self, input_string): #the self variables is necessary if accessing class attributes\n",
    "        print(input_string, self.my_number)\n",
    "\n",
    "\n",
    "\n",
    "instance = my_class() #instantiate the class\n",
    "instance.my_number = 100 #store this number in the class attribute my_number\n",
    "input_string = 'my favorite number is ' \n",
    "instance.number_combine(input_string) #call the class method number_combine on the instance of my_class"
   ]
  },
  {
   "cell_type": "markdown",
   "id": "48c3b3f0",
   "metadata": {},
   "source": [
    "You'll notice above that the keyword _self_ is used in the number_combine method. The _self_ keyword tells python that this method has access to the methods and attributes associated with my_class. So, since I need the my_number attribute, I must include _self_ as an input to the number_combine method to be able to access the class attributes."
   ]
  },
  {
   "cell_type": "markdown",
   "id": "c96f77e6",
   "metadata": {},
   "source": [
    "## Using Classes in our Research\n",
    "\n",
    "If the above topics are confusing, that's okay. Because, for the most part, you won't need to be able to write your own classes to be successful in the group, you just need to know how to use them. To understand how to use them, we're going to take a look at __numpy__. Start by importing Numpy"
   ]
  },
  {
   "cell_type": "code",
   "execution_count": 27,
   "id": "ce0210e0",
   "metadata": {},
   "outputs": [],
   "source": [
    "import numpy as np"
   ]
  },
  {
   "cell_type": "markdown",
   "id": "3a3d6e9f",
   "metadata": {},
   "source": [
    "When we import numpy, what is actually happening? What we're doing is calling a script stored in our environment that contains a ton of functions and classes. The most important class (and data type) in numpy is the _array_. Arrays must be instantiated with some type of argument. Arrays are essentially the same as the matrix data type in Matlab, so let's feed our array a vector to instantiate it."
   ]
  },
  {
   "cell_type": "code",
   "execution_count": 28,
   "id": "65d47a1a",
   "metadata": {},
   "outputs": [
    {
     "name": "stdout",
     "output_type": "stream",
     "text": [
      "[0 1 2 3]\n"
     ]
    }
   ],
   "source": [
    "array = np.array([0,1,2,3])\n",
    "print(array)"
   ]
  },
  {
   "cell_type": "markdown",
   "id": "7ab9e41f",
   "metadata": {},
   "source": [
    "We can see that the array() class from numpy took our list and turned it into a 1D array. Arrays are often used in scientific scripting because they are much faster and already have a bunch of built-in linear algebra operations."
   ]
  },
  {
   "cell_type": "code",
   "execution_count": 30,
   "id": "446303a2",
   "metadata": {},
   "outputs": [
    {
     "name": "stdout",
     "output_type": "stream",
     "text": [
      "-2.0000000000000004\n"
     ]
    }
   ],
   "source": [
    "det_array = np.array([[1,2],[3,4]])\n",
    "determinant = np.linalg.det(det_array)\n",
    "print(determinant)"
   ]
  },
  {
   "cell_type": "markdown",
   "id": "ea20f84d",
   "metadata": {},
   "source": [
    "In the above example, we used a numpy function to manipulate the _array_ class from numpy. Arrays are not necessarily interchangeable with the native data types in Python, so passing an array to other functions might break. Now let's look at some methods and attributes of the _array_ class."
   ]
  },
  {
   "cell_type": "code",
   "execution_count": 38,
   "id": "9315ac44",
   "metadata": {},
   "outputs": [
    {
     "name": "stdout",
     "output_type": "stream",
     "text": [
      "[[0.54340494 0.27836939 0.42451759 0.84477613 0.00471886]\n",
      " [0.12156912 0.67074908 0.82585276 0.13670659 0.57509333]\n",
      " [0.89132195 0.20920212 0.18532822 0.10837689 0.21969749]\n",
      " [0.97862378 0.81168315 0.17194101 0.81622475 0.27407375]\n",
      " [0.43170418 0.94002982 0.81764938 0.33611195 0.17541045]]\n"
     ]
    }
   ],
   "source": [
    "np.random.seed(100) #doing this so we get the same result each time\n",
    "rand_array = np.random.rand(5,5) #creating a random array \n",
    "print(rand_array)"
   ]
  },
  {
   "cell_type": "code",
   "execution_count": 39,
   "id": "9abd1fcf",
   "metadata": {},
   "outputs": [
    {
     "name": "stdout",
     "output_type": "stream",
     "text": [
      "(5, 5)\n"
     ]
    }
   ],
   "source": [
    "shape = rand_array.shape\n",
    "print(shape)"
   ]
  },
  {
   "cell_type": "code",
   "execution_count": 42,
   "id": "d07136b0",
   "metadata": {},
   "outputs": [
    {
     "name": "stdout",
     "output_type": "stream",
     "text": [
      "[0.54340494 0.27836939 0.42451759 0.84477613 0.00471886 0.12156912\n",
      " 0.67074908 0.82585276 0.13670659 0.57509333 0.89132195 0.20920212\n",
      " 0.18532822 0.10837689 0.21969749 0.97862378 0.81168315 0.17194101\n",
      " 0.81622475 0.27407375 0.43170418 0.94002982 0.81764938 0.33611195\n",
      " 0.17541045]\n"
     ]
    }
   ],
   "source": [
    "new_array = rand_array.ravel()\n",
    "print(new_array)"
   ]
  },
  {
   "cell_type": "markdown",
   "id": "165bac87",
   "metadata": {},
   "source": [
    "As you can see, the _shape_ attribute returns the shape of the array, which is 5x5 in this case. The _ravel_ method flattens the array into a 1D array. "
   ]
  },
  {
   "cell_type": "markdown",
   "id": "f91ad10f",
   "metadata": {},
   "source": [
    "To summarize, you have instantiated the array class by inputting a python list to it, and then used a built-in numpy function to get its determinant. After doing that, you instantiated another array, and used its class attributes and methods to get back its shape and perform operations on it."
   ]
  },
  {
   "cell_type": "markdown",
   "id": "d617b41a",
   "metadata": {},
   "source": [
    "### Practice\n",
    "\n",
    "Now, using the internet and [numpy documentation](https://numpy.org/doc/stable/user/basics.creation.html), instantiate an array object without directly passing a python list to it (similar to how I did using the random package). Then, find the eigenvalues of the array and use those eigenvalues to make a diaganol array, with the eigenvalues on the diaganol."
   ]
  },
  {
   "cell_type": "code",
   "execution_count": null,
   "id": "6046684c",
   "metadata": {},
   "outputs": [],
   "source": []
  }
 ],
 "metadata": {
  "kernelspec": {
   "display_name": "Python 3 (ipykernel)",
   "language": "python",
   "name": "python3"
  },
  "language_info": {
   "codemirror_mode": {
    "name": "ipython",
    "version": 3
   },
   "file_extension": ".py",
   "mimetype": "text/x-python",
   "name": "python",
   "nbconvert_exporter": "python",
   "pygments_lexer": "ipython3",
   "version": "3.9.7"
  }
 },
 "nbformat": 4,
 "nbformat_minor": 5
}
