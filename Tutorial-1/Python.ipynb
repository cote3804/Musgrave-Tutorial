{
 "cells": [
  {
   "cell_type": "markdown",
   "id": "cd96c006",
   "metadata": {},
   "source": [
    "# Tutorial 1"
   ]
  },
  {
   "cell_type": "markdown",
   "id": "ffd03b23",
   "metadata": {},
   "source": [
    "This tutorial will teach the very basic concepts of python scripting. It is by no means complete and further learning is necessary to become proficient. If you are already experienced with Python, you can skip this tutorial. For a more comprehensive introduction to Python, the University of Michigan has a set of [Coursera courses](https://www.coursera.org/specializations/python) which are [free to CU students through the University](https://oit.colorado.edu/services/teaching-learning-applications/coursera)."
   ]
  },
  {
   "cell_type": "markdown",
   "id": "61ee2eb1",
   "metadata": {},
   "source": [
    "## How to Code in Python\n",
    "\n",
    "For the purposes of this class, all coding can be done in this Jupyter Notebook. To create new code, create a new cell with the top menu and run it when you're finished editing. While Jupyter Notebooks are great for simple learning applications, they lack strong debugging and variable viewing capabilities. For a more advanced code editor, I recommend downloading an IDE (integrated development environment).\n",
    "\n",
    "![IDE image](../Pictures/spyder_photo.png) \n",
    "*Screenshot of Spyder IDE with code, plot viewer, and variable explorer integrated in one window*\n",
    "\n",
    "I prefer [Spyder](https://www.spyder-ide.org/), but there are other options such as [Visual Studio](https://code.visualstudio.com/) and [Pycharm](https://www.jetbrains.com/pycharm/). Spyder integrates best with Anaconda, which will be discussed in detail later."
   ]
  },
  {
   "cell_type": "markdown",
   "id": "7013fa71",
   "metadata": {},
   "source": [
    "## Variables and Data Types\n",
    "\n",
    "Variables in python are used to store data. Where python differs from a language like Matlab, is that there are many different types of data that can be stored in variables. Below we'll examine 5 of the main data types in Python: integers, floats, strings, lists, and dictionaries."
   ]
  },
  {
   "cell_type": "markdown",
   "id": "cd7e5699",
   "metadata": {},
   "source": [
    "##### integers\n",
    "\n",
    "Integers are whole numbers in python that can be used in math operations "
   ]
  },
  {
   "cell_type": "code",
   "execution_count": 1,
   "id": "bfda7767",
   "metadata": {},
   "outputs": [
    {
     "name": "stdout",
     "output_type": "stream",
     "text": [
      "<class 'int'>\n"
     ]
    }
   ],
   "source": [
    "integer = 1\n",
    "print(type(integer))"
   ]
  },
  {
   "cell_type": "markdown",
   "id": "8254cff4",
   "metadata": {},
   "source": [
    "In the above cell, the variable *integer* was created and the value of 1 was stored in it. The second line of the code block is used to print the data type of the *integer* value. In this case we can see that *integer* is an 'int', which means python recongizes it as an integer."
   ]
  },
  {
   "cell_type": "markdown",
   "id": "25e2feda",
   "metadata": {},
   "source": [
    "##### floats\n",
    "Floats are floating point numbers, which are capable of representing decimals unlike integers. Dividing an integer into a decimal will yield a float"
   ]
  },
  {
   "cell_type": "code",
   "execution_count": 5,
   "id": "69e86099",
   "metadata": {},
   "outputs": [
    {
     "name": "stdout",
     "output_type": "stream",
     "text": [
      "0.5\n",
      "<class 'float'>\n"
     ]
    }
   ],
   "source": [
    "decimal = integer/2\n",
    "print(decimal)\n",
    "print(type(decimal))"
   ]
  },
  {
   "cell_type": "markdown",
   "id": "ae9d7a74",
   "metadata": {},
   "source": [
    "By dividing the *integer* variable by 2, a decimal number is created and stored in the *decimal* variable. By printing the value of *decimal* and its variable type, we see that Python recongizes 0.5 as a float."
   ]
  },
  {
   "cell_type": "markdown",
   "id": "6ccf6e02",
   "metadata": {},
   "source": [
    "##### strings\n",
    "\n",
    "Strings are sequences of characters that are enclosed by quotation marks (\" \" or ' '). Strings are mostly used to process text and navigate through file systems."
   ]
  },
  {
   "cell_type": "code",
   "execution_count": 6,
   "id": "4ae00646",
   "metadata": {},
   "outputs": [
    {
     "name": "stdout",
     "output_type": "stream",
     "text": [
      "This is a string\n",
      "<class 'str'>\n"
     ]
    }
   ],
   "source": [
    "text = \"This is a string\"\n",
    "print(text)\n",
    "print(type(text))"
   ]
  },
  {
   "cell_type": "markdown",
   "id": "9397aaaa",
   "metadata": {},
   "source": [
    "As you've noticed, python has abbreviations for variable types. In this case, 'str' means string, and shows that python recongizes *text* as a string."
   ]
  },
  {
   "cell_type": "markdown",
   "id": "b7db2b05",
   "metadata": {},
   "source": [
    "##### lists\n",
    "Lists are different than the data types up to this point because they are collections of individual values. Lists collect a series of variables and store them together in a new data type. The list has the following key properties:\n",
    "- ordered\n",
    "- mutable\n",
    "- can contain any data type\n",
    "\n",
    "__Ordered__ means that the order in which the list is created will be maintained.\n",
    "\n",
    "__mutable__ means that the list can be changed. Individual values can be deleted/substituted, and one can add additional values to the list.\n",
    "\n",
    "Lists are created by placing variables/values between square brackets \\[ \\] and separating them with commas\n"
   ]
  },
  {
   "cell_type": "code",
   "execution_count": 7,
   "id": "00c3996e",
   "metadata": {},
   "outputs": [
    {
     "name": "stdout",
     "output_type": "stream",
     "text": [
      "[1, 0.5, 'This is a string']\n",
      "<class 'list'>\n"
     ]
    }
   ],
   "source": [
    "my_list = [integer, decimal, text]\n",
    "print(my_list)\n",
    "print(type(my_list))"
   ]
  },
  {
   "cell_type": "markdown",
   "id": "9be73303",
   "metadata": {},
   "source": [
    "Notice that the variables created earlier in the Jupyter notebook are stored in memory and can be used later down in the notebook.\n",
    "\n",
    "If yount to access individual values of the list, you can do so with their __index__. Because the list is ordered, I can ask python to give me the first value in the list. In python, indices start at 0, meaning that the first value in the list is actually the zeroth."
   ]
  },
  {
   "cell_type": "code",
   "execution_count": 9,
   "id": "b44f8629",
   "metadata": {},
   "outputs": [
    {
     "name": "stdout",
     "output_type": "stream",
     "text": [
      "1\n"
     ]
    }
   ],
   "source": [
    "first_value = my_list[0]\n",
    "print(first_value)"
   ]
  },
  {
   "cell_type": "markdown",
   "id": "4087a76b",
   "metadata": {},
   "source": [
    "In this case, the first (or zeroth) value in the list is the variable *integer*, which was created above. Asking for the first object in the list with the brackets stores that value in the new variable *first_value*"
   ]
  },
  {
   "cell_type": "markdown",
   "id": "3e145879",
   "metadata": {},
   "source": [
    "##### dictionaries\n",
    "dictionaries are like lists in that they compile data together, but different in the way that data is indexed. Dictionaries are unordered, meaning their values can't be accessed with a numerical index. Instead, dictionaries use \"keys\" (normally the keys are strings) associated with each value. Dictionaries are made with curly brackets as {key_1:value_1, key_2:value_2, ...}"
   ]
  },
  {
   "cell_type": "code",
   "execution_count": 11,
   "id": "15ec95a5",
   "metadata": {},
   "outputs": [],
   "source": [
    "my_dictionary = {'integer key':integer, 'decimal key':decimal, 'string key':text}"
   ]
  },
  {
   "cell_type": "markdown",
   "id": "dbb1a9a9",
   "metadata": {},
   "source": [
    "If you try to access the first value of the dictionary, python will return an error."
   ]
  },
  {
   "cell_type": "code",
   "execution_count": 12,
   "id": "2c609bcb",
   "metadata": {},
   "outputs": [
    {
     "ename": "KeyError",
     "evalue": "0",
     "output_type": "error",
     "traceback": [
      "\u001b[1;31m---------------------------------------------------------------------------\u001b[0m",
      "\u001b[1;31mKeyError\u001b[0m                                  Traceback (most recent call last)",
      "\u001b[1;32m~\\AppData\\Local\\Temp/ipykernel_19816/2259524326.py\u001b[0m in \u001b[0;36m<module>\u001b[1;34m\u001b[0m\n\u001b[1;32m----> 1\u001b[1;33m \u001b[0mfirst_dict_value\u001b[0m \u001b[1;33m=\u001b[0m \u001b[0mmy_dictionary\u001b[0m\u001b[1;33m[\u001b[0m\u001b[1;36m0\u001b[0m\u001b[1;33m]\u001b[0m\u001b[1;33m\u001b[0m\u001b[1;33m\u001b[0m\u001b[0m\n\u001b[0m",
      "\u001b[1;31mKeyError\u001b[0m: 0"
     ]
    }
   ],
   "source": [
    "first_dict_value = my_dictionary[0]"
   ]
  },
  {
   "cell_type": "markdown",
   "id": "e2270780",
   "metadata": {},
   "source": [
    "Instead, you need to use the key associated with whatever value you want"
   ]
  },
  {
   "cell_type": "code",
   "execution_count": 14,
   "id": "5ca220ea",
   "metadata": {},
   "outputs": [
    {
     "name": "stdout",
     "output_type": "stream",
     "text": [
      "1\n"
     ]
    }
   ],
   "source": [
    "integer_value = my_dictionary['integer key']\n",
    "print(integer_value)"
   ]
  },
  {
   "cell_type": "markdown",
   "id": "8fdcdd51",
   "metadata": {},
   "source": [
    "### Practice\n",
    "make a list with the following values in it:\n",
    "1. 10\n",
    "2. 42.098\n",
    "3. \"list entry\"\n",
    "Then, use the list index to print the 3rd value in the list"
   ]
  },
  {
   "cell_type": "code",
   "execution_count": null,
   "id": "56475640",
   "metadata": {},
   "outputs": [],
   "source": [
    "#blank cell for practice code"
   ]
  },
  {
   "cell_type": "markdown",
   "id": "7b21e74a",
   "metadata": {},
   "source": [
    "### Type Assertion\n",
    "some data types can be directly converted into others. For example, if a number is read from a text document, python will import it as a string. However, to do math with that number, it must be converted to either an integer or float. Python can manage this conversion with type assertion functions. The code below converts a number in a string to an integer and uses it to do math."
   ]
  },
  {
   "cell_type": "code",
   "execution_count": 16,
   "id": "3f7f2f54",
   "metadata": {},
   "outputs": [
    {
     "name": "stdout",
     "output_type": "stream",
     "text": [
      "<class 'str'>\n",
      "<class 'int'>\n"
     ]
    }
   ],
   "source": [
    "number_text = \"9\"\n",
    "print(type(number_text))\n",
    "number = int(number_text)\n",
    "print(type(number))"
   ]
  },
  {
   "cell_type": "markdown",
   "id": "50e19c7e",
   "metadata": {},
   "source": [
    "The int() method is built into python and can be used to convert to the int data type. Be careful using these type assertions, becuase they may lead to strange rounding in the case of floating point numbers that may not be desired."
   ]
  },
  {
   "cell_type": "markdown",
   "id": "b69f7994",
   "metadata": {},
   "source": [
    "##### comments\n",
    "Comments are made in python with the *#* symbol. Comments are not read by the computer and are mostly used as guides for developers to explain code."
   ]
  },
  {
   "cell_type": "code",
   "execution_count": 15,
   "id": "2b76059b",
   "metadata": {},
   "outputs": [
    {
     "name": "stdout",
     "output_type": "stream",
     "text": [
      "This is not a comment\n"
     ]
    }
   ],
   "source": [
    "# This line is a comment\n",
    "# print('This is a comment')\n",
    "print('This is not a comment')"
   ]
  },
  {
   "cell_type": "markdown",
   "id": "94a93f38",
   "metadata": {},
   "source": [
    "## Basic Logic\n",
    "\n",
    "We can now begin to learn the basic logic one can use to build complex programs. We'll start with __if__, which allows us to test if certain conditions are met in our code. The if statement below checks to see if the value of the variable *number* is an integer, and prints a __true__ if it is."
   ]
  },
  {
   "cell_type": "code",
   "execution_count": 17,
   "id": "5ce25089",
   "metadata": {},
   "outputs": [
    {
     "name": "stdout",
     "output_type": "stream",
     "text": [
      "true\n"
     ]
    }
   ],
   "source": [
    "number = 32\n",
    "if type(number) is int:\n",
    "    print('true')"
   ]
  },
  {
   "cell_type": "markdown",
   "id": "1861e105",
   "metadata": {},
   "source": [
    "Notice that the code below the __if__ statement is indented. This is necessary in Python to signal to the computer that all the code that needs to execute if the __if__ statement is true, can be found in the indented block below the if statement. \n",
    "\n",
    "The variable *number* is indeed an integer, but let's say it isn't, and we want an error message to be printed when it isn't an integer. In this case we can use an __else__ statement."
   ]
  },
  {
   "cell_type": "code",
   "execution_count": 19,
   "id": "9c5bc261",
   "metadata": {},
   "outputs": [
    {
     "name": "stdout",
     "output_type": "stream",
     "text": [
      "false\n"
     ]
    }
   ],
   "source": [
    "number = 32.0849\n",
    "if type(number) is int:\n",
    "    print('true')\n",
    "else:\n",
    "    print('false')"
   ]
  },
  {
   "cell_type": "markdown",
   "id": "36ea4939",
   "metadata": {},
   "source": [
    "For even more specificity, we can specify multiple conditions with the __elif__ statement, which stands for __else if__. In the case above, we want to be able to to check if the variable is an integer, a float, or neither. To do so, we'll use an elif statement nested inside the if statement."
   ]
  },
  {
   "cell_type": "code",
   "execution_count": 20,
   "id": "a1146c1f",
   "metadata": {},
   "outputs": [
    {
     "name": "stdout",
     "output_type": "stream",
     "text": [
      "number is a float\n"
     ]
    }
   ],
   "source": [
    "if type(number) is int:\n",
    "    print('number is an integer')\n",
    "elif type(number) is float:\n",
    "    print('number is a float')\n",
    "else:\n",
    "    print('number is neither float nor integer')"
   ]
  },
  {
   "cell_type": "markdown",
   "id": "d57b55b0",
   "metadata": {},
   "source": [
    "Notice that every __if__ statement ends with a colon. The colon signals to the computer that the conditional statement is done, and all the code following it is separate. The colon must be included in many different types of statements."
   ]
  },
  {
   "cell_type": "markdown",
   "id": "772310e4",
   "metadata": {},
   "source": [
    "### Practice\n",
    "Below is a code block with a list containing a few values. Write code to check to see if the second value in the list is a string. If it's a string, print \"success\". If it's not a string, print \"failure\""
   ]
  },
  {
   "cell_type": "code",
   "execution_count": 22,
   "id": "8a647737",
   "metadata": {},
   "outputs": [],
   "source": [
    "practice_var = \"134\"\n",
    "practice_list = [list((2,3)), practice_var, 392]\n",
    "#insert code below:\n",
    "\n",
    "\n"
   ]
  },
  {
   "cell_type": "markdown",
   "id": "4ddda2b7",
   "metadata": {},
   "source": [
    "Sometimes very simple procedures need to be repeated many times. Python is especially well equipped for this task with __for__  loops. Let's say we have a list of several values, and for each value in the list, we want to multiply it by 2 and print the new value. This can be accomplished easily with the following __for__ loop."
   ]
  },
  {
   "cell_type": "code",
   "execution_count": 23,
   "id": "765c54a3",
   "metadata": {},
   "outputs": [
    {
     "name": "stdout",
     "output_type": "stream",
     "text": [
      "2\n",
      "4\n",
      "10\n",
      "18\n"
     ]
    }
   ],
   "source": [
    "loop_list = [1, 2, 5, 9]\n",
    "#begin looping through list entries\n",
    "for entry in loop_list:\n",
    "    print(entry*2)"
   ]
  },
  {
   "cell_type": "markdown",
   "id": "39c086ee",
   "metadata": {},
   "source": [
    "Now, instead of printing the new value, I want to add it back to the list. In order to do that, I need to loop through each value in the list by its *index*. There are a few ways to do this, but one of the simplest is to calculate the length of the list (length being number of entries), and then loop through that range."
   ]
  },
  {
   "cell_type": "code",
   "execution_count": 25,
   "id": "07f0a9bd",
   "metadata": {},
   "outputs": [
    {
     "name": "stdout",
     "output_type": "stream",
     "text": [
      "0\n",
      "1\n",
      "2\n",
      "3\n",
      "[2, 4, 10, 18]\n"
     ]
    }
   ],
   "source": [
    "list_length = len(loop_list)\n",
    "for index in range(list_length):\n",
    "    print(index)\n",
    "    loop_list[index] = loop_list[index]*2\n",
    "\n",
    "print(loop_list)"
   ]
  },
  {
   "cell_type": "markdown",
   "id": "3e1c3c0b",
   "metadata": {},
   "source": [
    "As you can see, the *range()* method created a series of numbers counting up from 0 to the length of the list. These numbers are then looped through and used as the *index* of the list. line 4 replaces the value in the list specified by the index with 2 times the original value."
   ]
  },
  {
   "cell_type": "markdown",
   "id": "95fb9ca9",
   "metadata": {},
   "source": [
    "## Documentation and Problem Solving"
   ]
  },
  {
   "cell_type": "code",
   "execution_count": null,
   "id": "7bcb1574",
   "metadata": {},
   "outputs": [],
   "source": []
  }
 ],
 "metadata": {
  "kernelspec": {
   "display_name": "Python 3 (ipykernel)",
   "language": "python",
   "name": "python3"
  },
  "language_info": {
   "codemirror_mode": {
    "name": "ipython",
    "version": 3
   },
   "file_extension": ".py",
   "mimetype": "text/x-python",
   "name": "python",
   "nbconvert_exporter": "python",
   "pygments_lexer": "ipython3",
   "version": "3.9.7"
  }
 },
 "nbformat": 4,
 "nbformat_minor": 5
}
