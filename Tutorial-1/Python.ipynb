{
 "cells": [
  {
   "cell_type": "markdown",
   "id": "c5b205ae",
   "metadata": {},
   "source": [
    "# Tutorial 1"
   ]
  },
  {
   "cell_type": "markdown",
   "id": "65dc44a3",
   "metadata": {},
   "source": [
    "This tutorial will teach the very basic concepts of python scripting. It is by no means complete and further learning is necessary to become proficient. If you are already experienced with Python, you can skip this tutorial. For a more comprehensive introduction to Python, the University of Michigan has a set of [Coursera courses](https://www.coursera.org/specializations/python) which are [free to CU students through the University](https://oit.colorado.edu/services/teaching-learning-applications/coursera)."
   ]
  },
  {
   "cell_type": "markdown",
   "id": "d93540d8",
   "metadata": {},
   "source": [
    "### How to code in python\n",
    "\n",
    "For the purposes of this class, all coding can be done in this Jupyter Notebook. To create new code, create a new cell with the top menu and run it when you're finished editing. While Jupyter Notebooks are great for simple learning applications, they lack strong debugging and variable viewing capabilities. For a more advanced code editor, I recommend downloading an IDE (integrated development environment).\n",
    "![IDE image](/Pictures/spyder_photo.png) \n",
    "<img src=\"/Pictures/spyder_photo.png\"/>\n",
    "I prefer [Spyder](https://www.spyder-ide.org/), but there are other options such as [Visual Studio](https://code.visualstudio.com/) and [Pycharm](https://www.jetbrains.com/pycharm/). Spyder integrates best with Anaconda, which will be discussed in detail later."
   ]
  },
  {
   "cell_type": "code",
   "execution_count": null,
   "id": "78e0f0f6",
   "metadata": {},
   "outputs": [],
   "source": []
  }
 ],
 "metadata": {
  "kernelspec": {
   "display_name": "Python 3 (ipykernel)",
   "language": "python",
   "name": "python3"
  },
  "language_info": {
   "codemirror_mode": {
    "name": "ipython",
    "version": 3
   },
   "file_extension": ".py",
   "mimetype": "text/x-python",
   "name": "python",
   "nbconvert_exporter": "python",
   "pygments_lexer": "ipython3",
   "version": "3.9.7"
  }
 },
 "nbformat": 4,
 "nbformat_minor": 5
}
