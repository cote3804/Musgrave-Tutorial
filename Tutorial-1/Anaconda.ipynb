{
 "cells": [
  {
   "cell_type": "markdown",
   "id": "c8424de9",
   "metadata": {},
   "source": [
    "# Anaconda\n",
    "\n",
    "Anaconda is a package management system that allows you to create new environments and easily install python packages."
   ]
  },
  {
   "cell_type": "markdown",
   "id": "6790632f",
   "metadata": {},
   "source": [
    "### Modules\n",
    "\n",
    "Modules are pre-written python packages that come with custom functions and classes that make it easier to perform many tasks in python. The most commonly used package in scientific applications is probably [numpy](https://numpy.org). Numpy provides linear algebra capability and memory-efficient data types. In this tutorial we will install numpy and use it."
   ]
  },
  {
   "cell_type": "markdown",
   "id": "9dedfd9a",
   "metadata": {},
   "source": [
    "### Environments\n",
    "\n",
    "Environments are directories in your computer that contain a specific Python interpreter and a folder full of python modules. Environments are typically used to separate different coding projects that depend on different modules. For example, I have an enviornment for working with DFT data and a completely separate environment for machine learning. These enviornments are easily managed in Anaconda, which can be downloaded [here](https://www.anaconda.com/).\n",
    "\n",
    "Let's run through new environment creation and package installation"
   ]
  },
  {
   "cell_type": "markdown",
   "id": "feac504a",
   "metadata": {},
   "source": [
    "Begin by downloading anaconda from the link above. After it is installed, open the __Anaconda Prompt__ by searching for it in the search bar and opening it.\n",
    "![Anaconda Prompt](../Pictures/Anaconda/windows_search.png)"
   ]
  },
  {
   "cell_type": "markdown",
   "id": "2199aa02",
   "metadata": {},
   "source": [
    "Opening the prompt should result in a blank screen that looks similar to this:\n",
    "![Blank Prompt](../Pictures/Anaconda/blank_prompt.png)\n",
    "\n",
    "Mine says __(base) C:\\Users\\coopy>__, but yours will look slightly different. It should still start with __(base)__."
   ]
  },
  {
   "cell_type": "markdown",
   "id": "4764a21a",
   "metadata": {},
   "source": [
    "This command window allows us to type commands that will control our python environments. From here we can create new environments and install new packages. To see the environments that are currently installed, type:\n",
    "__conda info --envs__"
   ]
  },
  {
   "cell_type": "markdown",
   "id": "b4633444",
   "metadata": {},
   "source": [
    "When I type that command, I can see that I already have several environments.\n",
    "![Envs list](../Pictures/Anaconda/envs_list.png)\n",
    "\n",
    " The __\\*__ symbol indicates which environemnt is active, which in this case is my __base__ environment. In this tutorial, we'll set up the environment necessary to work with DFT data and perform common analysis the group does. To create a new environment named *dft-env*, type __codna create -n dft-env__.\n",
    " ![conda create](../Pictures/Anaconda/conda_create.png)"
   ]
  },
  {
   "cell_type": "markdown",
   "id": "bee0274a",
   "metadata": {},
   "source": [
    "Type __y__ when it prompts you to, and you should be met with the following message\n",
    "![env creatde](../Pictures/Anaconda/env_created.png)\n",
    " \n",
    "The new environemnt has been created. Since we didn't specify the Python version, this environment was created with the newest stable version of Python. Now that the environment was created, we need to activate that environment before we can install packages in it. To do so, type __conda activate dft-env__\n",
    "![env creatde](../Pictures/Anaconda/conda_activate.png)"
   ]
  },
  {
   "cell_type": "markdown",
   "id": "cad25f42",
   "metadata": {},
   "source": [
    "We can see that the __(base)__ changed to __(dft-env)__. This initial string in parenthesis always shows which conda environment is currently activated. Now that the environment has been activated, we can start to install packages in it. We'll start by installing a package called __Atomic Simulation Environment__, which is a package used for dealing with atomic data. The info on the package can be found [here](https://anaconda.org/conda-forge/ase). In order to install this package, type the following command: __conda install -c conda-forge ase__\n",
    "![conda install](../Pictures/Anaconda/conda-install.png)"
   ]
  },
  {
   "cell_type": "markdown",
   "id": "6067b96c",
   "metadata": {},
   "source": [
    "Let's look at that last command and break it down: __install__ is the command used to install new packages. The __-c__ argument specifies the *distribution*, which in this case is __conda-forge__. Distributions are essentially just different server locations where the packages are stored. When setting up a new conda environment, try to stick to just one distribtuion.\n",
    "\n",
    "Anaconda will then print a large message showing all of the packages it will install. Type __y__ to confirm the installation. Anaconda will display this message if the installation succeeded. ![installed](../Pictures/Anaconda/installed.png)"
   ]
  },
  {
   "cell_type": "markdown",
   "id": "5e1a07ba",
   "metadata": {},
   "source": [
    "Now we can check which modules are installed in the environment with __conda list__\n",
    "![conda list](../Pictures/Anaconda/conda_list.png)"
   ]
  },
  {
   "cell_type": "markdown",
   "id": "e4ed1cd4",
   "metadata": {},
   "source": [
    "Anaconda will return a list of modules installed in the active environment. Notice that __numpy__ was installed when we installed __ASE__, because Anaconda automatically looked for modules that ASE depends on and installed them with ASE. \n",
    "\n",
    "\n",
    "IN PROGRESS. Need to also install pymatgen. Pymatgen may require pip install."
   ]
  },
  {
   "cell_type": "code",
   "execution_count": null,
   "id": "26a31e51",
   "metadata": {},
   "outputs": [],
   "source": []
  }
 ],
 "metadata": {
  "kernelspec": {
   "display_name": "Python 3 (ipykernel)",
   "language": "python",
   "name": "python3"
  },
  "language_info": {
   "codemirror_mode": {
    "name": "ipython",
    "version": 3
   },
   "file_extension": ".py",
   "mimetype": "text/x-python",
   "name": "python",
   "nbconvert_exporter": "python",
   "pygments_lexer": "ipython3",
   "version": "3.9.7"
  }
 },
 "nbformat": 4,
 "nbformat_minor": 5
}
