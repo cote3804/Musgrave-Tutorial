{
 "cells": [
  {
   "cell_type": "markdown",
   "id": "61badb41",
   "metadata": {},
   "source": [
    "# Remote Computing\n",
    "\n",
    "This section of the tutorial will teach you how to interface with remote supercomputers, the main compute resource we use in our group.\n",
    "\n"
   ]
  },
  {
   "cell_type": "markdown",
   "id": "3a5c4e49",
   "metadata": {},
   "source": [
    "In this tutorial, we are going to use CU Boulder's supercomputer, Alpine."
   ]
  }
 ],
 "metadata": {
  "kernelspec": {
   "display_name": "Python 3 (ipykernel)",
   "language": "python",
   "name": "python3"
  },
  "language_info": {
   "codemirror_mode": {
    "name": "ipython",
    "version": 3
   },
   "file_extension": ".py",
   "mimetype": "text/x-python",
   "name": "python",
   "nbconvert_exporter": "python",
   "pygments_lexer": "ipython3",
   "version": "3.9.7"
  }
 },
 "nbformat": 4,
 "nbformat_minor": 5
}
