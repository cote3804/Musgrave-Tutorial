{
 "cells": [
  {
   "cell_type": "markdown",
   "id": "667fc40d",
   "metadata": {},
   "source": [
    "# Remote Computing\n",
    "\n",
    "This section of the tutorial will teach you how to interface with remote supercomputers, the main compute resource we use in our group.\n",
    "\n",
    "To begin, you'll need software to access the remote terminal and the file trasnfer system. [MobaXterm](https://mobaxterm.mobatek.net/) is a prgoram that combines file transfer and terminal control into one package. [putty](putty.org) is a remote terminal application that can be combined with [WinSCP](https://winscp.net/eng/index.php), a file sharing program. Either download MobaXterm or both Putty and WinSCP. This tutorial will use Putty and WinSCP, but you could follow along in MobaXterm."
   ]
  },
  {
   "cell_type": "markdown",
   "id": "4095959c",
   "metadata": {},
   "source": [
    "In this tutorial, we are going to use CU Boulder's supercomputer, Alpine."
   ]
  }
 ],
 "metadata": {
  "kernelspec": {
   "display_name": "Python 3 (ipykernel)",
   "language": "python",
   "name": "python3"
  },
  "language_info": {
   "codemirror_mode": {
    "name": "ipython",
    "version": 3
   },
   "file_extension": ".py",
   "mimetype": "text/x-python",
   "name": "python",
   "nbconvert_exporter": "python",
   "pygments_lexer": "ipython3",
   "version": "3.9.7"
  }
 },
 "nbformat": 4,
 "nbformat_minor": 5
}
