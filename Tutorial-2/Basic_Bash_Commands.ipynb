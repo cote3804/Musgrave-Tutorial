{
 "cells": [
  {
   "cell_type": "markdown",
   "id": "1e5b1551",
   "metadata": {},
   "source": [
    "# Basic Bash Commands\n",
    "\n",
    "This section of the tutorial will teach you how to interface with remote supercomputers, the main compute resource we use in our group. We'll use CU Boulder's supercomputer, Alpine, which we set up in the previous tutorial.\n",
    "\n",
    "In this tutorial, all the code in code blocks will have to be entered into the remote terminal after being copied from the code blocks in this notebook. Whenever I say to execute code, I mean to do so in the terminal. Running most code in this notebook will cause error messages.\n",
    "\n",
    "The terminal is called a \"bash\" terminal. Bash stands for \"born again shell,\" and it refers to the language used to navigate the shell. For the rest of this tutorial I may refer to the terminal as the bash terminal, which is the same thing as the terminal.\n",
    "\n",
    "This section will only use the terminal, so open Putty and start the connection to Alpine the same way we did in the previous tutorial. Once you enter the terminal, you should be met with a green cursor following a line of text.\n",
    "<img src=\"../Pictures/Remote_Computing/Cursor.png\" alt=\"Cursor\">"
   ]
  },
  {
   "cell_type": "markdown",
   "id": "558355c5",
   "metadata": {},
   "source": [
    "In my case, my cursor is following the line \n",
    "<code class=\"docutils literal notranslate\"><span class=\"pre\">(base) [cote3804@login12 ~]$</span></code>\n",
    "\n",
    "Lets break down what each part of this line means.\n",
    "<code class=\"docutils literal notranslate\"><span class=\"pre\">(base)</span></code> is something we've seen before from using Anaconda. It refer to our active conda environment, which in this case is _base_. We could change that environment with a \n",
    "<code class=\"docutils literal notranslate\"><span class=\"pre\">conda activate</span></code> command. But for right now, leave it in the base conda environment.\n",
    "\n",
    "Next is <code class=\"docutils literal notranslate\"><span class=\"pre\">cote3804</span></code>. This is just a user-name, and you should recognize your CU ID in the first line of your terminal. This is followed by <code class=\"docutils literal notranslate\"><span class=\"pre\">@login12</span></code>, which refers to the node I logged into on Alpine. It isn't important to know which node you're on, unless you're experiencing issues and need to report them to Research Computing.\n",
    "\n",
    "The <code class=\"docutils literal notranslate\"><span class=\"pre\">~</span></code> symbol refers to my _root_ directory. More on this later. And finally, the <code class=\"docutils literal notranslate\"><span class=\"pre\">$</span></code> symbol is used to show that this line is done, and that the cursor will follow"
   ]
  },
  {
   "cell_type": "markdown",
   "id": "935b01a3",
   "metadata": {},
   "source": [
    "The supercomputer uses the Unix operating system. We interact with the computer by typing in commands on the command line and running pre-written scripts. We're going to learn a few basic commands that help us navigate around the computer and perform basic file operations. The first command is\n",
    "```bash\n",
    "ls\n",
    "```\n",
    "Type ``` ls ``` into your terminal and hit enter"
   ]
  },
  {
   "cell_type": "markdown",
   "id": "e8375a99",
   "metadata": {},
   "source": [
    "When I type ``` ls ``` into my terminal, I get the following response:\n",
    "<img src=\"../Pictures/Remote_Computing/ls.png\" alt=\"ls\">"
   ]
  },
  {
   "cell_type": "markdown",
   "id": "d53b76e2",
   "metadata": {},
   "source": [
    "After I typed ``` ls ```, a new line printed with some colored text. The blue color indicates a folder, while the green color indicates a file that can be executed. \n",
    "\n",
    "The response you get will look completely different than mine since I have different files in my root directory.\n",
    "<span style=\"color: blue;\">bin</span> is a folder like those that you're used to on a local computer. If you don't have a <span style=\"color: blue;\">bin</span> folder, you can easily make one. To do so, type the command\n",
    "```bash\n",
    "mkdir bin\n",
    "```\n",
    "The ``` mkdir ``` command stands for \"make directory\" (directory is another name for folder), which will create a directory named _bin_. Now that you've made the directory, or if you already have one, let's move into it.\n",
    "\n",
    "To move into a new folder, we need to use the command ``` cd ```. The name of this command isn't intuitive, but you'll quickly memorize that ``` cd ``` is used to move into files. Now type \n",
    "```bash\n",
    "cd bin\n",
    "``` \n",
    "into your terminal to move into the <span style=\"color: blue;\">bin</span> directory."
   ]
  },
  {
   "cell_type": "markdown",
   "id": "b070f85a",
   "metadata": {},
   "source": [
    "\n",
    "<img src=\"../Pictures/Remote_Computing/cd_bin.png\" alt=\"Cursor\">\n",
    "\n",
    "You'll notice that when I moved into a new directory, the terminal automatically printed the files and directories in <span style=\"color: blue;\">bin</span>. However, yours won't automatically do that, so you need to type ``` ls ``` to see what's inside your <span style=\"color: blue;\">bin</span> directory. Later, we will configure your environment so that you don't need to type ``` ls ``` each time you ``` cd ``` into a new directory.\n",
    "\n",
    "Also notice that the string before my cursor changed. It was ``` (base) [cote3804@login12 ~]$ ```, and it's now ```(base) [cote3804@login12 bin]$```. This change reflects the fact that our current active directory is now ``` bin ```, when it was the root directory which is notated as ``` ~ ```\n",
    "\n",
    "The ``` root ``` directory I keep referring to is essentially the home directory of your user profile on Alpine. the root directory can always be accessed by any location. To ``` cd ``` into the root directory, type\n",
    "```bash\n",
    "cd ~\n",
    "```"
   ]
  },
  {
   "cell_type": "markdown",
   "id": "170e473c",
   "metadata": {},
   "source": [
    "You'll notice that doing that took you back to the starting directory you loaded into at the start. That directory will always be your root directory.\n",
    "\n",
    "``` cd ``` back into your ``` bin ``` directory and type the following command\n",
    "```bash\n",
    "pwd\n",
    "```\n",
    "<img src=\"../Pictures/Remote_Computing/pwd.png\" alt='pwd'>\n",
    "\n",
    "We see that the terminal printed ``` /home/cote3804/bin ```. This is string is called the working directory (``` pwd ``` stands for \"print working directory\"). This string of text is essentially an address of where you are in the file system on Alpine. Each directory is separated by a ```/``` and the final directory in the string is the one you are currently in. If I use ``` pwd ``` in my root directory, I'll get ``` /home/cote3804 ```.\n",
    "\n",
    "If you ever get lost in the file system and need to orient yourself, ``` pwd ``` is a good way to do so."
   ]
  },
  {
   "cell_type": "markdown",
   "id": "aa01b1c6",
   "metadata": {},
   "source": [
    "Now, let's create some files.\n",
    "\n",
    "There are a few ways to create and edit files in Unix, but we're going to stick with the general method that can be used on any Unix computer. Create a file called ``` tutorial_file.txt ``` using the following command\n",
    "```bash\n",
    "touch tutorial_file.txt\n",
    "```\n"
   ]
  },
  {
   "cell_type": "markdown",
   "id": "cc2640d1",
   "metadata": {},
   "source": [
    "<img src=\"../Pictures/Remote_Computing/touch.png\" alt='touch'>\n",
    "\n",
    "the ``` touch ``` command didn't return any message, so I used ``` ls ``` to see what file was created. We see that ``` tutorial_file.txt ``` was created, but unlike the other files in my directory, isn't highlighted green. We'll talk about these highlighting colors in more detail later, but for now understand that it's fine if the text isn't colored.\n",
    "\n",
    "Now that we've made a new text file, we probably want to write something in it. Just like on your local computer, we need to open a text editor. There are many text editors available to us on alpine such as [Vim](https://www.vim.org/) and [nano](https://www.nano-editor.org/). Nano isn't available on many remote computers, but it's much easier to learn than Vim, so we're going to use it here. To open the nano on tutorial_file.txt, type\n",
    "```bash\n",
    "nano tutorial_file.txt\n",
    "```"
   ]
  },
  {
   "cell_type": "markdown",
   "id": "ddecc00f",
   "metadata": {},
   "source": [
    "You'll see that the terminal user interface has changed.\n",
    "<img src=\"../Pictures/Remote_Computing/Blank_Nano.png\" alt='Blank Nano'>\n",
    "\n",
    "This is what the Nano text editor interface looks like. You'll notice that you can start typing text. Feel free to type any text you want. I'm going to type:\n",
    "```bash\n",
    "hello world\n",
    "This is my first text file\n",
    "Electrocatalysis is the future\n",
    "```\n",
    "\n",
    "Once you're done typing, you can use the controls listed on the bottom to exit and save the file. To exit, type ``` ctrl ``` + ``` X ```. You'll see a new prompt appears at the bottom.\n",
    "<img src=\"../Pictures/Remote_Computing/Exit_Nano.png\" alt='Exit Nano'>"
   ]
  },
  {
   "cell_type": "markdown",
   "id": "40c8a200",
   "metadata": {},
   "source": [
    "Type ``` Y ``` and then hit ``` Enter ``` to save the text file and exit nano."
   ]
  },
  {
   "cell_type": "markdown",
   "id": "4ff9dcbc",
   "metadata": {},
   "source": [
    "We can now use a new command to see the contents of the text file. The command ``` cat ``` is used to print the contents of a file. Type\n",
    "```bash\n",
    "cat tutorial_file.txt\n",
    "```\n",
    "to print the contents of the file to the command line. You'll notice that whatever text you typed will print out to the command line. ``` cat ``` does not change the file nor open a text editor, it just prints the file's contents."
   ]
  },
  {
   "cell_type": "markdown",
   "id": "3b199b9d",
   "metadata": {},
   "source": [
    "To summarize, so far we have learned the following commands\n",
    "- ```ls``` list files in the current directory\n",
    "- ```cd``` move into a new directory\n",
    "- ```pwd``` print the path to the current working directory\n",
    "- ```touch``` create a new file\n",
    "- ```mkdir``` create a new directory\n",
    "- ```nano``` open the nano text editor\n",
    "- ```cat``` print the contents of a file\n",
    "\n",
    "These commands are all pretty common in bash, so you should memorize them to facilitate easy navigation of the file system."
   ]
  },
  {
   "cell_type": "markdown",
   "id": "604883ba",
   "metadata": {},
   "source": [
    "There are some more commands we need to learn before we can efficiently use the remote computer. One of those commands is ``` rm ```. ``` rm ``` is used to remove files, so be careful with it. There is no ability to undo decisions made in the bash terminal, so make sure you really want to remove files before doing so.\n",
    "\n",
    "Create a new file in your bin directory called ``` fodder_file.txt ```. Next, type the following command to remove it\n",
    "```bash\n",
    "rm fodder_file.txt\n",
    "```"
   ]
  },
  {
   "cell_type": "markdown",
   "id": "045bda71",
   "metadata": {},
   "source": [
    "If you want to remove all files in a directory, you can type \n",
    "```bash\n",
    "rm *\n",
    "```\n",
    "__BE CAREFUL USING THIS COMMAND__\n",
    "\n",
    "To delete a directory, type\n",
    "```bash\n",
    "rm directory_name -r\n",
    "```\n",
    "The ``` -r ``` argument means \"recursive\" and it can be used to remove directories along with the files inside them\n",
    "\n",
    "__BE CAREFUL USING THIS COMMAND__"
   ]
  },
  {
   "cell_type": "markdown",
   "id": "1560b6a2",
   "metadata": {},
   "source": [
    "Next, well learn the commands ``` cp ``` and ``` mv ```. ``` mv ``` stands for \"move\" and it can be used to move a file to a new location and rename it, or just to rename a file without moving it. To use these commands well, we need to know the path to our target location and the location the file is in. We're going to move our tutorial file from our bin to our root directory. To do so, we need the root path, which is ``` ~ ``` and the bin path, which is ``` ~/bin ```. To move the file, enter the following command\n",
    "```bash\n",
    "mv ~/bin/tutorial_file.txt ~\n",
    "```\n",
    "You'll notice that I had to specify ``` ~/bin/tutorial_file.txt ``` in order to tell bash to grab the right file. Also notice that the first argument I give to ``` mv ``` is the location of the file I want to move, and the second argument is the target location."
   ]
  },
  {
   "cell_type": "markdown",
   "id": "75aeb33a",
   "metadata": {},
   "source": [
    "Next, we're going to copy the tutorial file back to the bin. To do so, I'm going to introduce a new path notation. To specify the current directory you're in, you can use a ``` . ```. ``` cd ``` into the root directory and type the following command\n",
    "```bash\n",
    "cp ./tutorial_file.txt ./bin\n",
    "```\n",
    "This will copy the tutorial_file.txt file back into the bin directory so that you have a copy in your bin and your root directory. Just like ``` rm ```, both ``` cp ``` and ``` mv ``` can be used with the ``` -r ``` tag to copy and move directories.\n",
    "\n",
    "Now, lets rename one of the tutorial files. ``` cd ``` into your root directory to rename the tutorial file to ``` file_copy.txt ```. To do so, use the ``` mv ``` command without changing the path, just the filename.\n",
    "```bash\n",
    "mv ./tutorial_file.txt ./file_copy.txt\n",
    "```\n",
    "Using ``` ls ``` should show that the file has been renamed without having been moved."
   ]
  },
  {
   "cell_type": "markdown",
   "id": "e358e737",
   "metadata": {},
   "source": [
    "We just learned 3 more commands\n",
    "- ``` rm ``` remove files or directories\n",
    "- ``` cp ``` copy files\n",
    "- ``` mv ``` move files\n",
    "\n",
    "You now know enough basic bash commands to navigate the file system and perform basic file operations. If you ever need to look up commands or arguments that can be used with each command, the [bash documentation](https://www.gnu.org/savannah-checkouts/gnu/bash/manual/bash.html) is a good resource.\n",
    "\n",
    "You can continue on to the next tutorial to learn about bash scripting."
   ]
  },
  {
   "cell_type": "code",
   "execution_count": null,
   "id": "fbfd7f4b",
   "metadata": {},
   "outputs": [],
   "source": []
  }
 ],
 "metadata": {
  "kernelspec": {
   "display_name": "Python 3 (ipykernel)",
   "language": "python",
   "name": "python3"
  },
  "language_info": {
   "codemirror_mode": {
    "name": "ipython",
    "version": 3
   },
   "file_extension": ".py",
   "mimetype": "text/x-python",
   "name": "python",
   "nbconvert_exporter": "python",
   "pygments_lexer": "ipython3",
   "version": "3.9.7"
  }
 },
 "nbformat": 4,
 "nbformat_minor": 5
}
