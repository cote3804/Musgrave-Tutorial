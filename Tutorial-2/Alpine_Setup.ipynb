{
 "cells": [
  {
   "cell_type": "markdown",
   "id": "3f9b422c",
   "metadata": {},
   "source": [
    "# Alpine Setup\n",
    "\n",
    "All of these instructions are available at [https://curc.readthedocs.io/en/latest/access/logging-in.html#getting-an-account](https://curc.readthedocs.io/en/latest/access/logging-in.html#getting-an-account). \n",
    "![Alpine Setup](../Pictures/Alpine_Setup.png)\n",
    "\n",
    "This tutorial will also take you through the setup step-by-step.\n",
    "\n",
    "In this tutorial, we are going to use CU Boulder's supercomputer, [Alpine](https://www.colorado.edu/rc/alpine). Alpine is institutionally funded and thus is free to use for CU Boulder students. First you need to request a CU Research Computing account [here](https://rcamp.rc.colorado.edu/accounts/account-request/create/organization). "
   ]
  },
  {
   "cell_type": "markdown",
   "id": "d36b615a",
   "metadata": {},
   "source": [
    "After requesting your CU Research Computing account, you need to sign up for two-factor authentication using Duo. Enroll in two-factor authentication for your CU account [here](https://duo.colorado.edu). "
   ]
  },
  {
   "cell_type": "markdown",
   "id": "212b761b",
   "metadata": {},
   "source": [
    "## Accessing Alpine\n",
    "\n",
    "To begin, you'll need software to access the remote terminal and the file trasnfer system. [MobaXterm](https://mobaxterm.mobatek.net/) is a prgoram that combines file transfer and terminal control into one package. [Putty](putty.org) is a remote terminal application that can be combined with [WinSCP](https://winscp.net/eng/index.php), a file sharing program. Either download MobaXterm or both Putty and WinSCP. This tutorial will use Putty and WinSCP, but you could follow along in MobaXterm."
   ]
  },
  {
   "cell_type": "markdown",
   "id": "3b39047e",
   "metadata": {},
   "source": [
    "Once Putty is installed, you should be met with this window upon open.\n",
    "![Putty](../Pictures/Remote_Computing/Blank_Putty.png)\n",
    "\n"
   ]
  },
  {
   "cell_type": "markdown",
   "id": "2ff84079",
   "metadata": {},
   "source": [
    "The _Host Name (or IP Address)_ field is used to tell your local computer how to find the remote supercomputer. You can find the IP Address for Alpine on their [website](https://curc.readthedocs.io/en/latest/access/logging-in.html), which happens to be <code class=\"docutils literal notranslate\"><span class=\"pre\">login.rc.colorado.edu</span></code>\n",
    "\n",
    "Type <code class=\"docutils literal notranslate\"><span class=\"pre\">login.rc.colorado.edu</span></code> into the _Host Name (or IP Address)_ field and ensure that the _Connection type_ is set to _SSH_. Now, under _Saved Sessions_, enter \"ALPINE\" and click the _Save_ button. \n",
    "![Configure Putty](../Pictures/Remote_Computing/Configure_Putty.png)\n",
    "\n",
    "This will save the Alpine IP Address so that you don't need to re-enter it each time you login."
   ]
  },
  {
   "cell_type": "markdown",
   "id": "143b843f",
   "metadata": {},
   "source": [
    "Now that you've saved the IP Address under \"ALPINE\", double click it to open the remote computing session\n",
    "![Open Alpine](../Pictures/Remote_Computing/Open_Alpine.png)\n",
    "\n",
    "After clicking on \"ALPINE\", a new window should open that should look like this:\n",
    "![Blank Terminal](../Pictures/Remote_Computing/Blank_Terminal.png)"
   ]
  },
  {
   "cell_type": "markdown",
   "id": "4c3a74a0",
   "metadata": {},
   "source": [
    "This next part will only work if your Research Computing account has been set up and you have enrolled in two-factor authentication through Duo. If you have done both of those, enter your CU ID and hit enter. In my case, my ID is <code class=\"docutils literal notranslate\"><span class=\"pre\">cote3804</span></code>. After entering your ID, the terminal will prompt you for your password, which is the password you use to logon to all CU websites.\n",
    "![Password Terminal](../Pictures/Remote_Computing/Password_Terminal.png)"
   ]
  },
  {
   "cell_type": "markdown",
   "id": "e581782e",
   "metadata": {},
   "source": [
    "Type in your password and hit Enter. Your phone should send you a notification from Duo that will ask you to verify that you're logging on. Hit the green check mark and you should be greeted by this message in the terminal.\n",
    "![Greeting Message](../Pictures/Remote_Computing/Greeting_Message.png)"
   ]
  },
  {
   "cell_type": "markdown",
   "id": "4bdcd50c",
   "metadata": {},
   "source": [
    "Congratulations, you have successfully set up your Terminal. Next, we're going to set up the file sharing in WinSCP in a very similar fashion. Begin by opening WinSCP and typing in <code class=\"docutils literal notranslate\"><span class=\"pre\">login.rc.colorado.edu</span></code> to the _Host Name:_ field. Also enter your Username and ensure that the _File protocal_ is _SFTP_. Click \"Save\" and name the save \"ALPINE\". You should see that \"ALPINE\" is one of the options that pops up on the left pane.\n",
    "\n",
    "![WinSCP Login](../Pictures/Remote_Computing/WinSCP_Login.png)"
   ]
  },
  {
   "cell_type": "markdown",
   "id": "6b4ee586",
   "metadata": {},
   "source": [
    "Click _Login_ and the following prompt will appear:\n",
    "\n",
    "![WinSCP Password](../Pictures/Remote_Computing/WinSCP_Password.png)\n",
    "\n",
    "Enter your password and accept the two-factor authentication notification on your phone"
   ]
  },
  {
   "cell_type": "markdown",
   "id": "e6651f58",
   "metadata": {},
   "source": [
    "You've successfully logged in if you get a window that looks something like this:\n",
    "\n",
    "![WinSCP Main](../Pictures/Remote_Computing/WinSCP_Main.png)"
   ]
  },
  {
   "cell_type": "markdown",
   "id": "76ca4e1b",
   "metadata": {},
   "source": [
    "Congratulations! You are finished setting up Alpine, and you can continue on to the next tutorial."
   ]
  },
  {
   "cell_type": "code",
   "execution_count": null,
   "id": "c9a1b0fb",
   "metadata": {},
   "outputs": [],
   "source": []
  }
 ],
 "metadata": {
  "kernelspec": {
   "display_name": "Python 3 (ipykernel)",
   "language": "python",
   "name": "python3"
  },
  "language_info": {
   "codemirror_mode": {
    "name": "ipython",
    "version": 3
   },
   "file_extension": ".py",
   "mimetype": "text/x-python",
   "name": "python",
   "nbconvert_exporter": "python",
   "pygments_lexer": "ipython3",
   "version": "3.9.7"
  }
 },
 "nbformat": 4,
 "nbformat_minor": 5
}
